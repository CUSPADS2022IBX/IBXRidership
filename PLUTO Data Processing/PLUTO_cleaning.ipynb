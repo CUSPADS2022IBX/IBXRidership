{
  "nbformat": 4,
  "nbformat_minor": 0,
  "metadata": {
    "colab": {
      "name": "PLUTO cleaning.ipynb",
      "provenance": [],
      "authorship_tag": "ABX9TyOdNYkZbO6xGh7BYQMVDz9X",
      "include_colab_link": true
    },
    "kernelspec": {
      "name": "python3",
      "display_name": "Python 3"
    },
    "language_info": {
      "name": "python"
    }
  },
  "cells": [
    {
      "cell_type": "markdown",
      "metadata": {
        "id": "view-in-github",
        "colab_type": "text"
      },
      "source": [
        "<a href=\"https://colab.research.google.com/github/CUSPADS2022IBX/IBXRidership/blob/main/PLUTO_cleaning.ipynb\" target=\"_parent\"><img src=\"https://colab.research.google.com/assets/colab-badge.svg\" alt=\"Open In Colab\"/></a>"
      ]
    },
    {
      "cell_type": "code",
      "source": [
        ""
      ],
      "metadata": {
        "id": "WOcEDvgLCh3A"
      },
      "execution_count": null,
      "outputs": []
    },
    {
      "cell_type": "markdown",
      "source": [
        "### PLUTO Cleaning"
      ],
      "metadata": {
        "id": "f56lgIo3CiLp"
      }
    },
    {
      "cell_type": "code",
      "source": [
        "pip install wget"
      ],
      "metadata": {
        "colab": {
          "base_uri": "https://localhost:8080/"
        },
        "id": "cgsRUGynD2ep",
        "outputId": "10e06cba-0301-4837-e1d1-df4a93b6515e"
      },
      "execution_count": null,
      "outputs": [
        {
          "output_type": "stream",
          "name": "stdout",
          "text": [
            "Collecting wget\n",
            "  Downloading wget-3.2.zip (10 kB)\n",
            "Building wheels for collected packages: wget\n",
            "  Building wheel for wget (setup.py) ... \u001b[?25l\u001b[?25hdone\n",
            "  Created wheel for wget: filename=wget-3.2-py3-none-any.whl size=9675 sha256=77c3c3afb6f9d5a8dc06271fa56f9bcac131bc54c5475c90fa57061a875f7c1d\n",
            "  Stored in directory: /root/.cache/pip/wheels/a1/b6/7c/0e63e34eb06634181c63adacca38b79ff8f35c37e3c13e3c02\n",
            "Successfully built wget\n",
            "Installing collected packages: wget\n",
            "Successfully installed wget-3.2\n"
          ]
        }
      ]
    },
    {
      "cell_type": "code",
      "source": [
        "!pip install pyspark"
      ],
      "metadata": {
        "colab": {
          "base_uri": "https://localhost:8080/"
        },
        "id": "OLc4_W3GCc74",
        "outputId": "b1dd5f13-4f60-45c4-cb61-2489d7701cf7"
      },
      "execution_count": null,
      "outputs": [
        {
          "output_type": "stream",
          "name": "stdout",
          "text": [
            "Collecting pyspark\n",
            "  Downloading pyspark-3.2.1.tar.gz (281.4 MB)\n",
            "\u001b[K     |████████████████████████████████| 281.4 MB 34 kB/s \n",
            "\u001b[?25hCollecting py4j==0.10.9.3\n",
            "  Downloading py4j-0.10.9.3-py2.py3-none-any.whl (198 kB)\n",
            "\u001b[K     |████████████████████████████████| 198 kB 45.0 MB/s \n",
            "\u001b[?25hBuilding wheels for collected packages: pyspark\n",
            "  Building wheel for pyspark (setup.py) ... \u001b[?25l\u001b[?25hdone\n",
            "  Created wheel for pyspark: filename=pyspark-3.2.1-py2.py3-none-any.whl size=281853642 sha256=f45c3becd8cd13e5ec9377dae73c708ceabbc3332e64eed86cfc87cb123082b0\n",
            "  Stored in directory: /root/.cache/pip/wheels/9f/f5/07/7cd8017084dce4e93e84e92efd1e1d5334db05f2e83bcef74f\n",
            "Successfully built pyspark\n",
            "Installing collected packages: py4j, pyspark\n",
            "Successfully installed py4j-0.10.9.3 pyspark-3.2.1\n"
          ]
        }
      ]
    },
    {
      "cell_type": "code",
      "execution_count": null,
      "metadata": {
        "colab": {
          "base_uri": "https://localhost:8080/",
          "height": 219
        },
        "id": "jywFhh0VCOEF",
        "outputId": "f21ea532-1832-4c69-d672-9108de6dabd2"
      },
      "outputs": [
        {
          "output_type": "execute_result",
          "data": {
            "text/plain": [
              "<pyspark.sql.session.SparkSession at 0x7eff61619b10>"
            ],
            "text/html": [
              "\n",
              "            <div>\n",
              "                <p><b>SparkSession - in-memory</b></p>\n",
              "                \n",
              "        <div>\n",
              "            <p><b>SparkContext</b></p>\n",
              "\n",
              "            <p><a href=\"http://d7471beb3d73:4040\">Spark UI</a></p>\n",
              "\n",
              "            <dl>\n",
              "              <dt>Version</dt>\n",
              "                <dd><code>v3.2.1</code></dd>\n",
              "              <dt>Master</dt>\n",
              "                <dd><code>local[*]</code></dd>\n",
              "              <dt>AppName</dt>\n",
              "                <dd><code>pyspark-shell</code></dd>\n",
              "            </dl>\n",
              "        </div>\n",
              "        \n",
              "            </div>\n",
              "        "
            ]
          },
          "metadata": {},
          "execution_count": 6
        }
      ],
      "source": [
        "import csv\n",
        "import json\n",
        "import numpy as np\n",
        "import matplotlib.pyplot as plt\n",
        "import seaborn as sns\n",
        "import pandas as pd\n",
        "import IPython\n",
        "import wget\n",
        "%matplotlib inline\n",
        "IPython.display.set_matplotlib_formats('svg')\n",
        "pd.plotting.register_matplotlib_converters()\n",
        "sns.set_style(\"whitegrid\")\n",
        "import zipfile\n",
        "\n",
        "import pyspark\n",
        "from pyspark.sql import SparkSession\n",
        "from pyspark.sql import functions as F\n",
        "from pyspark.sql import types as T\n",
        "sc = pyspark.SparkContext.getOrCreate()\n",
        "spark = SparkSession(sc)\n",
        "spark"
      ]
    },
    {
      "cell_type": "markdown",
      "source": [
        "#### Reading in PLUTO .csv directly from zip URL"
      ],
      "metadata": {
        "id": "KQasFty_DOl-"
      }
    },
    {
      "cell_type": "code",
      "source": [
        ""
      ],
      "metadata": {
        "id": "5VqENUqxEeNo"
      },
      "execution_count": null,
      "outputs": []
    },
    {
      "cell_type": "code",
      "source": [
        "#downloading\n",
        "!wget 'https://www1.nyc.gov/assets/planning/download/zip/data-maps/open-data/nyc_pluto_21v4_csv.zip'\n",
        "!unzip 'nyc_pluto_21v4_csv.zip'"
      ],
      "metadata": {
        "colab": {
          "base_uri": "https://localhost:8080/"
        },
        "id": "omy66WlXFyOf",
        "outputId": "ab376697-cf82-4cbb-8126-55068a0ea243"
      },
      "execution_count": null,
      "outputs": [
        {
          "output_type": "stream",
          "name": "stdout",
          "text": [
            "--2022-04-09 20:50:46--  https://www1.nyc.gov/assets/planning/download/zip/data-maps/open-data/nyc_pluto_21v4_csv.zip\n",
            "Resolving www1.nyc.gov (www1.nyc.gov)... 23.11.9.240, 2600:1407:3c00:1086::1500, 2600:1407:3c00:109b::1500\n",
            "Connecting to www1.nyc.gov (www1.nyc.gov)|23.11.9.240|:443... connected.\n",
            "HTTP request sent, awaiting response... 200 OK\n",
            "Length: 93698884 (89M) [application/zip]\n",
            "Saving to: ‘nyc_pluto_21v4_csv.zip’\n",
            "\n",
            "nyc_pluto_21v4_csv. 100%[===================>]  89.36M   114MB/s    in 0.8s    \n",
            "\n",
            "2022-04-09 20:50:47 (114 MB/s) - ‘nyc_pluto_21v4_csv.zip’ saved [93698884/93698884]\n",
            "\n"
          ]
        }
      ]
    },
    {
      "cell_type": "code",
      "source": [
        "#reading as spark dataframe \n",
        "pluto = spark.read.csv('/content/pluto_21v4.csv',header=True)\\\n",
        ".select('BCT2020','lotarea', 'bldgarea', 'comarea', 'resarea',\n",
        "       'officearea', 'retailarea', 'garagearea', 'strgearea', 'factryarea',\n",
        "       'otherarea','numbldgs','numfloors','unitsres','unitstotal','assesstot')\n"
      ],
      "metadata": {
        "id": "C9cgOuREFtQH"
      },
      "execution_count": null,
      "outputs": []
    },
    {
      "cell_type": "code",
      "source": [
        "#list of column names for iterating \n",
        "cols = pluto.columns[1:]\n",
        "\n",
        "#iterating through spark DF columns to cast to float \n",
        "for col_name in cols:\n",
        "    pluto = pluto.withColumn(col_name, F.col(col_name).cast('float'))\n",
        "\n",
        "#sums of counts as groupby\n",
        "pluto_tract = pluto.groupBy('BCT2020').sum()\n",
        "\n",
        "#list of column names for iterating\n",
        "cols1 = pluto_tract.columns[1:]\n",
        "\n",
        "for i in range(len(cols1)):\n",
        "    pluto_tract = pluto_tract.withColumnRenamed(cols1[i],cols[i])"
      ],
      "metadata": {
        "id": "VUG_M9VmLLtg"
      },
      "execution_count": null,
      "outputs": []
    },
    {
      "cell_type": "code",
      "source": [
        "pluto_tract.show(5)\n",
        "\n",
        "\n",
        "#aggregated by station "
      ],
      "metadata": {
        "colab": {
          "base_uri": "https://localhost:8080/"
        },
        "id": "rWxyqK76PnzW",
        "outputId": "502769d7-5d4f-4f98-93b8-13388d32ef74"
      },
      "execution_count": null,
      "outputs": [
        {
          "output_type": "stream",
          "name": "stdout",
          "text": [
            "+-------+---------+---------+--------+---------+----------+----------+----------+---------+----------+---------+--------+------------------+--------+----------+------------+\n",
            "|BCT2020|  lotarea| bldgarea| comarea|  resarea|officearea|retailarea|garagearea|strgearea|factryarea|otherarea|numbldgs|         numfloors|unitsres|unitstotal|   assesstot|\n",
            "+-------+---------+---------+--------+---------+----------+----------+----------+---------+----------+---------+--------+------------------+--------+----------+------------+\n",
            "|3056600|1258182.0|1254905.0|196353.0| 978845.0|   82590.0|   69635.0|    5550.0|      0.0|       0.0|  38578.0|   575.0|             762.0|   988.0|    1032.0| 5.2304088E7|\n",
            "|4072300|3602899.0|1899353.0|125662.0|1756701.0|    6791.0|    8100.0|       0.0|      0.0|       0.0| 110771.0|  1045.0|1574.5899999141693|   913.0|     934.0|  9.459345E7|\n",
            "|4027200|1194838.0| 644470.0| 99013.0| 538597.0|    8594.0|   49467.0|       0.0|   2550.0|       0.0|  36853.0|   617.0| 954.6699999570847|   550.0|     595.0| 2.1781104E7|\n",
            "|3080200|1428334.0|2334285.0|300431.0|1947838.0|   13892.0|   93475.0|    1215.0|      0.0|       0.0| 191849.0|   464.0|1096.4299998283386|  1924.0|    2041.0|1.03270263E8|\n",
            "|2033700|2948047.0|1887595.0|370078.0|1400446.0|  128057.0|   66977.0|   36040.0|   1041.0|       0.0| 136467.0|   663.0| 1254.759999871254|  1256.0|    1352.0| 6.6661442E7|\n",
            "+-------+---------+---------+--------+---------+----------+----------+----------+---------+----------+---------+--------+------------------+--------+----------+------------+\n",
            "only showing top 5 rows\n",
            "\n"
          ]
        }
      ]
    },
    {
      "cell_type": "code",
      "source": [
        "#could group by census block (~350,169) different groups \n",
        "#could aggregate by census tract (~5,000)\n",
        "#could aggregate by zip (~1700)\n",
        "#could aggregate by tax lots or tax blocks "
      ],
      "metadata": {
        "id": "GPT7nSuIEgvq"
      },
      "execution_count": null,
      "outputs": []
    },
    {
      "cell_type": "code",
      "source": [
        ""
      ],
      "metadata": {
        "id": "XCEe8cJ7DCcm"
      },
      "execution_count": null,
      "outputs": []
    }
  ]
}