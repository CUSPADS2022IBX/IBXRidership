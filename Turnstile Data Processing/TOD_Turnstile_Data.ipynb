{
  "nbformat": 4,
  "nbformat_minor": 0,
  "metadata": {
    "colab": {
      "name": "TOD Turnstile Data",
      "provenance": [],
      "collapsed_sections": [],
      "authorship_tag": "ABX9TyPnY6OR3KeV0zukTcrLUeGN",
      "include_colab_link": true
    },
    "kernelspec": {
      "name": "python3",
      "display_name": "Python 3"
    },
    "language_info": {
      "name": "python"
    }
  },
  "cells": [
    {
      "cell_type": "markdown",
      "metadata": {
        "id": "view-in-github",
        "colab_type": "text"
      },
      "source": [
        "<a href=\"https://colab.research.google.com/github/CUSPADS2022IBX/IBXRidership/blob/main/Turnstile%20Data%20Processing/TOD_Turnstile_Data.ipynb\" target=\"_parent\"><img src=\"https://colab.research.google.com/assets/colab-badge.svg\" alt=\"Open In Colab\"/></a>"
      ]
    },
    {
      "cell_type": "markdown",
      "source": [
        "Data Source: http://web.mta.info/developers/turnstile.html\n",
        "\n",
        "Example:\n",
        "\n",
        "The data below shows the entry/exit register values for one turnstile at control area (A002) from 09/27/14 at 00:00 hours to 09/29/14 at 00:00 hours\n",
        "\n",
        "Schema Example:\n",
        "C/A,UNIT,SCP,STATION,LINENAME,DIVISION,DATE,TIME,DESC,ENTRIES,EXITS\n",
        "A002,R051,02-00-00,LEXINGTON AVE,456NQR,BMT,09-27-14,00:00:00,REGULAR,0004800073,0001629137,\n",
        "\n",
        "Data cleaning and processing resources used:\n",
        "\n",
        "1)https://medium.com/qri-io/taming-the-mtas-unruly-turnstile-data-c945f5f96ba0\n",
        "\n",
        "2)https://toddwschneider.com/dashboards/nyc-subway-turnstiles/#notes\n"
      ],
      "metadata": {
        "id": "8HzqGRmo_BsS"
      }
    },
    {
      "cell_type": "code",
      "source": [
        "!pip install pyspark\n",
        "!pip install --upgrade xlrd"
      ],
      "metadata": {
        "colab": {
          "base_uri": "https://localhost:8080/"
        },
        "id": "ZalDTGmcDQmE",
        "outputId": "46f42f9b-35b0-4ac3-d3fe-dc6ebb945499"
      },
      "execution_count": 1,
      "outputs": [
        {
          "output_type": "stream",
          "name": "stdout",
          "text": [
            "Collecting pyspark\n",
            "  Downloading pyspark-3.2.1.tar.gz (281.4 MB)\n",
            "\u001b[K     |████████████████████████████████| 281.4 MB 22 kB/s \n",
            "\u001b[?25hCollecting py4j==0.10.9.3\n",
            "  Downloading py4j-0.10.9.3-py2.py3-none-any.whl (198 kB)\n",
            "\u001b[K     |████████████████████████████████| 198 kB 51.8 MB/s \n",
            "\u001b[?25hBuilding wheels for collected packages: pyspark\n",
            "  Building wheel for pyspark (setup.py) ... \u001b[?25l\u001b[?25hdone\n",
            "  Created wheel for pyspark: filename=pyspark-3.2.1-py2.py3-none-any.whl size=281853642 sha256=aa9d6d7fe79ce4c2c1b289ad8b4c64614d07946cae47f059b3dc1d4f5380db6e\n",
            "  Stored in directory: /root/.cache/pip/wheels/9f/f5/07/7cd8017084dce4e93e84e92efd1e1d5334db05f2e83bcef74f\n",
            "Successfully built pyspark\n",
            "Installing collected packages: py4j, pyspark\n",
            "Successfully installed py4j-0.10.9.3 pyspark-3.2.1\n",
            "Requirement already satisfied: xlrd in /usr/local/lib/python3.7/dist-packages (1.1.0)\n",
            "Collecting xlrd\n",
            "  Downloading xlrd-2.0.1-py2.py3-none-any.whl (96 kB)\n",
            "\u001b[K     |████████████████████████████████| 96 kB 2.8 MB/s \n",
            "\u001b[?25hInstalling collected packages: xlrd\n",
            "  Attempting uninstall: xlrd\n",
            "    Found existing installation: xlrd 1.1.0\n",
            "    Uninstalling xlrd-1.1.0:\n",
            "      Successfully uninstalled xlrd-1.1.0\n",
            "Successfully installed xlrd-2.0.1\n"
          ]
        }
      ]
    },
    {
      "cell_type": "code",
      "execution_count": 17,
      "metadata": {
        "id": "ijUc954X941k"
      },
      "outputs": [],
      "source": [
        "import pandas as pd\n",
        "import numpy as np\n",
        "from datetime import datetime, date, timedelta\n",
        "import pyspark\n",
        "from pyspark.sql import SparkSession\n",
        "from pyspark.sql import functions as F\n",
        "from pyspark.sql import types as T\n",
        "from pyspark.sql.window import Window\n",
        "from pyspark import SparkFiles\n",
        "\n",
        "sc = pyspark.SparkContext.getOrCreate()\n",
        "spark = SparkSession(sc)\n",
        "\n",
        "#The start date has to match the date of the first URL in the MTA turnstile data, otherwise the URL pull will not work. Data is reported every Saturday.\n",
        "#NOTE: On November 20, 2021 MTA changed their normal turnstile count periods from [12AM, 4AM, 8AM, 12PM, 4PM, 8PM] to [3AM, 7AM, 11AM, 3PM, 7PM, 11PM]\n",
        "start_date = date(2022,3, 5)\n",
        "end_date = date(2022, 4, 23)\n",
        "\n",
        "#Create a list of dates for the date range requested\n",
        "date_range = list(pd.date_range(start_date, end_date, freq='7D').strftime(\"%y%m%d\"))\n",
        "\n",
        "#MTA tunrstile schema, 'EXITS' kepts giving nulls when imported as IntegerType\n",
        "mta_turnstile_schema = T.StructType([\n",
        "  T.StructField('C/A', T.StringType(), True),\n",
        "  T.StructField('UNIT', T.StringType(), True),\n",
        "  T.StructField('SCP', T.StringType(), True),\n",
        "  T.StructField('STATION', T.StringType(), True),\n",
        "  T.StructField('LINENAME', T.StringType(), True),\n",
        "  T.StructField('DIVISION', T.StringType(), True),\n",
        "  T.StructField('DATE', T.StringType(), True),\n",
        "  T.StructField('TIME', T.StringType(), True),\n",
        "  T.StructField('DESC', T.StringType(), True),\n",
        "  T.StructField('ENTRIES', T.IntegerType(), True),\n",
        "  T.StructField('EXITS', T.FloatType(), True),\n",
        "  ])\n",
        "\n",
        "#Create empty dataframe with previous scheme\n",
        "bigdf = spark.createDataFrame([], mta_turnstile_schema)\n",
        "\n",
        "#Download each .txt file on to Spark job node and load into Spark DataFrame and union onto Empty DataFrame we created\n",
        "for date_string in date_range:\n",
        "  url = 'http://web.mta.info/developers/data/nyct/turnstile/turnstile_{}.txt'.format(date_string)\n",
        "  spark.sparkContext.addFile(url)\n",
        "  df = spark.read.csv(SparkFiles.get('turnstile_{}.txt'.format(date_string)), mta_turnstile_schema, header=True)\n",
        "  bigdf = bigdf.union(df)\n",
        "\n",
        "#Change 'EXITS' column data type to IntegerType and concate 'DATE' and 'TIME' columns and cast to datetime\n",
        "bigdf = bigdf.withColumn('EXITS',bigdf.EXITS.cast(T.IntegerType()))\\\n",
        "             .withColumn('timestamp',\n",
        "                         F.unix_timestamp(F.concat(bigdf.DATE,bigdf.TIME),'MM/dd/yyyyHH:mm:ss').cast('timestamp'))\n",
        "             \n",
        "#Create columns to represent unique observation id, and unique turnstile id for data processing             \n",
        "bigdf = bigdf.withColumn('unit_division', F.concat(bigdf.UNIT,bigdf.DIVISION))\\\n",
        "             .withColumn('unit_id', F.concat(bigdf['C/A'],bigdf.UNIT,bigdf.SCP))"
      ]
    },
    {
      "cell_type": "code",
      "source": [
        "bigdf.show(5)"
      ],
      "metadata": {
        "colab": {
          "base_uri": "https://localhost:8080/"
        },
        "id": "xgaNsDlGSByF",
        "outputId": "0da9d4f0-c1ef-4f67-e5e4-dec6253127aa"
      },
      "execution_count": 18,
      "outputs": [
        {
          "output_type": "stream",
          "name": "stdout",
          "text": [
            "+----+----+--------+-------+--------+--------+----------+--------+-------+-------+-------+-------------------+-------------+----------------+\n",
            "| C/A|UNIT|     SCP|STATION|LINENAME|DIVISION|      DATE|    TIME|   DESC|ENTRIES|  EXITS|          timestamp|unit_division|         unit_id|\n",
            "+----+----+--------+-------+--------+--------+----------+--------+-------+-------+-------+-------------------+-------------+----------------+\n",
            "|A002|R051|02-00-00|  59 ST| NQR456W|     BMT|02/26/2022|03:00:00|REGULAR|7689737|2671257|2022-02-26 03:00:00|      R051BMT|A002R05102-00-00|\n",
            "|A002|R051|02-00-00|  59 ST| NQR456W|     BMT|02/26/2022|07:00:00|REGULAR|7689741|2671278|2022-02-26 07:00:00|      R051BMT|A002R05102-00-00|\n",
            "|A002|R051|02-00-00|  59 ST| NQR456W|     BMT|02/26/2022|11:00:00|REGULAR|7689758|2671380|2022-02-26 11:00:00|      R051BMT|A002R05102-00-00|\n",
            "|A002|R051|02-00-00|  59 ST| NQR456W|     BMT|02/26/2022|15:00:00|REGULAR|7689791|2671465|2022-02-26 15:00:00|      R051BMT|A002R05102-00-00|\n",
            "|A002|R051|02-00-00|  59 ST| NQR456W|     BMT|02/26/2022|19:00:00|REGULAR|7689858|2671530|2022-02-26 19:00:00|      R051BMT|A002R05102-00-00|\n",
            "+----+----+--------+-------+--------+--------+----------+--------+-------+-------+-------+-------------------+-------------+----------------+\n",
            "only showing top 5 rows\n",
            "\n"
          ]
        }
      ]
    },
    {
      "cell_type": "code",
      "source": [
        "print(bigdf.count())\n",
        "bigdf.describe(['ENTRIES', 'EXITS']).show()"
      ],
      "metadata": {
        "colab": {
          "base_uri": "https://localhost:8080/"
        },
        "id": "ooPFcJpe_-Fu",
        "outputId": "266eead9-07dc-490c-a9aa-09b9bf6c650d"
      },
      "execution_count": 19,
      "outputs": [
        {
          "output_type": "stream",
          "name": "stdout",
          "text": [
            "1684150\n",
            "+-------+--------------------+--------------------+\n",
            "|summary|             ENTRIES|               EXITS|\n",
            "+-------+--------------------+--------------------+\n",
            "|  count|             1684150|             1684150|\n",
            "|   mean|  4.27020266821542E7|3.4312966725517325E7|\n",
            "| stddev|2.2301099300602618E8|  1.96194359027336E8|\n",
            "|    min|                   0|                   0|\n",
            "|    max|          2147319334|          2122443392|\n",
            "+-------+--------------------+--------------------+\n",
            "\n"
          ]
        }
      ]
    },
    {
      "cell_type": "code",
      "source": [
        "#Use utility function window to partition by turnstile and order by timestamp\n",
        "window = Window.partitionBy('unit_id').orderBy('timestamp')\n",
        "\n",
        "#Use previous window to find the 'net_entries' and 'net_exits'. Remove all entries that are above 10000, because\n",
        "#turnstiles act as odometers, and when turnstile reaches end it resets creating a large value. 10000 is a good cutoff.\n",
        "#Also drop first rows of each turnstile data, because .lag function creates None for first row.\n",
        "net_entry_exit = bigdf.withColumn('net_entries', F.abs(F.col('ENTRIES') - F.lag(F.col('ENTRIES'), 1).over(window)))\\\n",
        "                      .withColumn('net_exits', F.abs(F.col('EXITS') - F.lag(F.col('EXITS'), 1).over(window))).dropna()"
      ],
      "metadata": {
        "id": "nzkI8xCC_OOI"
      },
      "execution_count": 20,
      "outputs": []
    },
    {
      "cell_type": "code",
      "source": [
        "print(net_entry_exit.count())\n",
        "net_entry_exit.describe(['net_entries', 'net_exits']).show()"
      ],
      "metadata": {
        "colab": {
          "base_uri": "https://localhost:8080/"
        },
        "id": "t_li6XlJDNe8",
        "outputId": "d5ed9967-1b61-491b-d13b-89b4cf1f4737"
      },
      "execution_count": 21,
      "outputs": [
        {
          "output_type": "stream",
          "name": "stdout",
          "text": [
            "1679109\n",
            "+-------+------------------+------------------+\n",
            "|summary|       net_entries|         net_exits|\n",
            "+-------+------------------+------------------+\n",
            "|  count|           1679109|           1679109|\n",
            "|   mean|3636.3177625752705| 3958.484421201959|\n",
            "| stddev|1866207.4947073061|2090951.0729941803|\n",
            "|    min|                 0|                 0|\n",
            "|    max|        1278711326|        1871701216|\n",
            "+-------+------------------+------------------+\n",
            "\n"
          ]
        }
      ]
    },
    {
      "cell_type": "code",
      "source": [
        "net_entry_exit = net_entry_exit.filter((F.col('net_entries')<10000) & (F.col('net_exits')<10000))"
      ],
      "metadata": {
        "id": "eROnTxM6DK8N"
      },
      "execution_count": 22,
      "outputs": []
    },
    {
      "cell_type": "code",
      "source": [
        "print(net_entry_exit.count())\n",
        "net_entry_exit.describe(['net_entries', 'net_exits']).show()"
      ],
      "metadata": {
        "colab": {
          "base_uri": "https://localhost:8080/"
        },
        "id": "s_PDrW3KAJe0",
        "outputId": "f6c13784-0405-455a-bf72-875a5cbdc92f"
      },
      "execution_count": 23,
      "outputs": [
        {
          "output_type": "stream",
          "name": "stdout",
          "text": [
            "1678901\n",
            "+-------+-----------------+------------------+\n",
            "|summary|      net_entries|         net_exits|\n",
            "+-------+-----------------+------------------+\n",
            "|  count|          1678901|           1678901|\n",
            "|   mean|70.30216433250085| 89.40866793217707|\n",
            "| stddev|  104.14214187233|142.35420633867332|\n",
            "|    min|                0|                 0|\n",
            "|    max|             9834|              8934|\n",
            "+-------+-----------------+------------------+\n",
            "\n"
          ]
        }
      ]
    },
    {
      "cell_type": "code",
      "source": [
        "net_entry_exit.show(5)"
      ],
      "metadata": {
        "colab": {
          "base_uri": "https://localhost:8080/"
        },
        "id": "laV2bxTiJJok",
        "outputId": "e24c56a2-6ee7-4709-961d-e9c32b103d2c"
      },
      "execution_count": 24,
      "outputs": [
        {
          "output_type": "stream",
          "name": "stdout",
          "text": [
            "+----+----+--------+-------+--------+--------+----------+--------+-------+-------+-------+-------------------+-------------+----------------+-----------+---------+\n",
            "| C/A|UNIT|     SCP|STATION|LINENAME|DIVISION|      DATE|    TIME|   DESC|ENTRIES|  EXITS|          timestamp|unit_division|         unit_id|net_entries|net_exits|\n",
            "+----+----+--------+-------+--------+--------+----------+--------+-------+-------+-------+-------------------+-------------+----------------+-----------+---------+\n",
            "|A002|R051|02-00-01|  59 ST| NQR456W|     BMT|02/26/2022|07:00:00|REGULAR|6803071|1576712|2022-02-26 07:00:00|      R051BMT|A002R05102-00-01|          2|       10|\n",
            "|A002|R051|02-00-01|  59 ST| NQR456W|     BMT|02/26/2022|11:00:00|REGULAR|6803085|1576759|2022-02-26 11:00:00|      R051BMT|A002R05102-00-01|         14|       47|\n",
            "|A002|R051|02-00-01|  59 ST| NQR456W|     BMT|02/26/2022|15:00:00|REGULAR|6803131|1576797|2022-02-26 15:00:00|      R051BMT|A002R05102-00-01|         46|       38|\n",
            "|A002|R051|02-00-01|  59 ST| NQR456W|     BMT|02/26/2022|19:00:00|REGULAR|6803195|1576836|2022-02-26 19:00:00|      R051BMT|A002R05102-00-01|         64|       39|\n",
            "|A002|R051|02-00-01|  59 ST| NQR456W|     BMT|02/26/2022|23:00:00|REGULAR|6803246|1576854|2022-02-26 23:00:00|      R051BMT|A002R05102-00-01|         51|       18|\n",
            "+----+----+--------+-------+--------+--------+----------+--------+-------+-------+-------+-------------------+-------------+----------------+-----------+---------+\n",
            "only showing top 5 rows\n",
            "\n"
          ]
        }
      ]
    },
    {
      "cell_type": "code",
      "source": [
        "#Upload Remote_complex_lookup table and create key table for unit_division join\n",
        "#Manually checked if complex_id was correct (google sheets for reference: https://docs.google.com/spreadsheets/d/1kMmoqzq3uWM5J8Esrzi1DPEBrdezzVtQ1Rv5ZAIsEfk/edit?usp=sharing)\n",
        "remote_complex_url = 'https://raw.githubusercontent.com/qri-io/data-stories-scripts/master/nyc-turnstile-counts/lookup/remote_complex_lookup.csv'\n",
        "remote_complex = pd.read_csv(remote_complex_url).sort_values('station')\n",
        "remote_complex['complex_id'] = remote_complex['complex_id'].astype('Int64').astype('str')\n",
        "remote_complex['unit_division'] = remote_complex['remote ']+remote_complex['division']\n",
        "remote_complex = pd.DataFrame(remote_complex.groupby(['unit_division', 'complex_id']).size()).reset_index()\n",
        "remote_complex_spark = spark.createDataFrame(remote_complex)\n",
        "\n",
        "print(remote_complex.count())\n",
        "remote_complex_spark.show(5)"
      ],
      "metadata": {
        "colab": {
          "base_uri": "https://localhost:8080/"
        },
        "id": "NOJwzJXOUFJW",
        "outputId": "c736b312-d75e-4656-b1a4-e67b31237d0b"
      },
      "execution_count": 25,
      "outputs": [
        {
          "output_type": "stream",
          "name": "stdout",
          "text": [
            "unit_division    506\n",
            "complex_id       506\n",
            "0                506\n",
            "dtype: int64\n",
            "+-------------+----------+---+\n",
            "|unit_division|complex_id|  0|\n",
            "+-------------+----------+---+\n",
            "|      R001BMT|       635|  2|\n",
            "|      R001IRT|       635|  1|\n",
            "|      R002BMT|       628|  3|\n",
            "|      R003BMT|        86|  1|\n",
            "|      R004BMT|        85|  1|\n",
            "+-------------+----------+---+\n",
            "only showing top 5 rows\n",
            "\n"
          ]
        }
      ]
    },
    {
      "cell_type": "code",
      "source": [
        "#join to the entry_exit_df to create unique complex_Id column to aggregate on\n",
        "complex_id_df = net_entry_exit.join(remote_complex_spark, net_entry_exit.unit_division==remote_complex_spark.unit_division, how='left')\\\n",
        "                              .select('complex_id','net_entries','net_exits', 'timestamp').sort(F.col('complex_id')).dropna()"
      ],
      "metadata": {
        "id": "wWOnEukYPMDo"
      },
      "execution_count": 26,
      "outputs": []
    },
    {
      "cell_type": "code",
      "source": [
        "complex_id_df.show(5)"
      ],
      "metadata": {
        "colab": {
          "base_uri": "https://localhost:8080/"
        },
        "id": "Lf3Ssfc-Ueqq",
        "outputId": "061fd39d-afa3-4b86-9261-c2dec000c130"
      },
      "execution_count": 27,
      "outputs": [
        {
          "output_type": "stream",
          "name": "stdout",
          "text": [
            "+----------+-----------+---------+-------------------+\n",
            "|complex_id|net_entries|net_exits|          timestamp|\n",
            "+----------+-----------+---------+-------------------+\n",
            "|         1|         20|       18|2022-02-26 07:00:00|\n",
            "|         1|         11|      100|2022-02-27 03:00:00|\n",
            "|         1|        111|       73|2022-02-26 11:00:00|\n",
            "|         1|        132|      132|2022-02-26 15:00:00|\n",
            "|         1|        116|      248|2022-02-26 19:00:00|\n",
            "+----------+-----------+---------+-------------------+\n",
            "only showing top 5 rows\n",
            "\n"
          ]
        }
      ]
    },
    {
      "cell_type": "code",
      "source": [
        "print(complex_id_df.count())\n",
        "complex_id_df.describe(['net_entries', 'net_exits']).show()"
      ],
      "metadata": {
        "colab": {
          "base_uri": "https://localhost:8080/"
        },
        "id": "Ea4krWWlUtzr",
        "outputId": "28e3cd02-e717-4de5-aee0-f4afe3525833"
      },
      "execution_count": 28,
      "outputs": [
        {
          "output_type": "stream",
          "name": "stdout",
          "text": [
            "1669809\n",
            "+-------+-----------------+------------------+\n",
            "|summary|      net_entries|         net_exits|\n",
            "+-------+-----------------+------------------+\n",
            "|  count|          1669809|           1669809|\n",
            "|   mean|70.50102137430089| 89.51339344799315|\n",
            "| stddev|104.3006992604758|142.42225900403463|\n",
            "|    min|                0|                 0|\n",
            "|    max|             9834|              8934|\n",
            "+-------+-----------------+------------------+\n",
            "\n"
          ]
        }
      ]
    },
    {
      "cell_type": "code",
      "source": [
        "#Create new column for 'Day' \n",
        "complex_id_df = complex_id_df.withColumn('Day', F.date_trunc('day', F.col('timestamp')))\n",
        "\n",
        "#Create new column for 'DOW' (day of week) to aggregate by weekends and weekdays.\n",
        "complex_id_df = complex_id_df.withColumn('DOW', F.when((F.dayofweek(F.col('timestamp'))<7) & (F.dayofweek(F.col('timestamp'))>1),'weekday')\\\n",
        "                                                .when((F.dayofweek(F.col('timestamp'))==7) | (F.dayofweek(F.col('timestamp'))==1),'weekend'))\n",
        "\n",
        "#Creates new column 'TOD' (Time of Day)\n",
        "#NOTE: Hour intervals are messaged up due to MTA practices, these hours intervals were chosen based on how well the distributions matched with each TOD interval\n",
        "complex_id_df = complex_id_df.withColumn('TOD', F.when((F.date_format(F.col('timestamp'), 'HH:mm:ss')> '00:00:00') & (F.date_format(F.col('timestamp'), 'HH:mm:ss')<= '07:00:00'), 'overnight')\\\n",
        "                                                .when((F.date_format(F.col('timestamp'), 'HH:mm:ss')> '07:00:00') & (F.date_format(F.col('timestamp'), 'HH:mm:ss')<= '16:00:00'), 'morning')\\\n",
        "                                                .when((F.date_format(F.col('timestamp'), 'HH:mm:ss')> '16:00:00') | (F.date_format(F.col('timestamp'), 'HH:mm:ss')<= '00:00:00'), 'evening'))"
      ],
      "metadata": {
        "id": "zREEZB31AQ79"
      },
      "execution_count": 37,
      "outputs": []
    },
    {
      "cell_type": "code",
      "source": [
        "complex_id_df.show(50)"
      ],
      "metadata": {
        "colab": {
          "base_uri": "https://localhost:8080/"
        },
        "id": "UN1I7476EnZK",
        "outputId": "8a17bd33-a35a-4a11-bfd5-4c7c69854c0e"
      },
      "execution_count": 38,
      "outputs": [
        {
          "output_type": "stream",
          "name": "stdout",
          "text": [
            "+----------+-----------+---------+-------------------+-------------------+-------+---------+\n",
            "|complex_id|net_entries|net_exits|          timestamp|                Day|    DOW|      TOD|\n",
            "+----------+-----------+---------+-------------------+-------------------+-------+---------+\n",
            "|         1|         20|       18|2022-02-26 07:00:00|2022-02-26 00:00:00|weekend|overnight|\n",
            "|         1|        115|       87|2022-03-06 15:00:00|2022-03-06 00:00:00|weekend|  morning|\n",
            "|         1|        111|       73|2022-02-26 11:00:00|2022-02-26 00:00:00|weekend|  morning|\n",
            "|         1|        132|      132|2022-02-26 15:00:00|2022-02-26 00:00:00|weekend|  morning|\n",
            "|         1|        116|      248|2022-02-26 19:00:00|2022-02-26 00:00:00|weekend|  evening|\n",
            "|         1|         61|      164|2022-02-26 23:00:00|2022-02-26 00:00:00|weekend|  evening|\n",
            "|         1|         11|      100|2022-02-27 03:00:00|2022-02-27 00:00:00|weekend|overnight|\n",
            "|         1|         15|       17|2022-02-27 07:00:00|2022-02-27 00:00:00|weekend|overnight|\n",
            "|         1|         88|       54|2022-02-27 11:00:00|2022-02-27 00:00:00|weekend|  morning|\n",
            "|         1|         85|      101|2022-02-27 15:00:00|2022-02-27 00:00:00|weekend|  morning|\n",
            "|         1|         70|      189|2022-02-27 19:00:00|2022-02-27 00:00:00|weekend|  evening|\n",
            "|         1|         31|      141|2022-02-27 23:00:00|2022-02-27 00:00:00|weekend|  evening|\n",
            "|         1|          7|       37|2022-02-28 03:00:00|2022-02-28 00:00:00|weekday|overnight|\n",
            "|         1|         94|       24|2022-02-28 07:00:00|2022-02-28 00:00:00|weekday|overnight|\n",
            "|         1|        348|      102|2022-02-28 11:00:00|2022-02-28 00:00:00|weekday|  morning|\n",
            "|         1|        117|      131|2022-02-28 15:00:00|2022-02-28 00:00:00|weekday|  morning|\n",
            "|         1|        133|      431|2022-02-28 19:00:00|2022-02-28 00:00:00|weekday|  evening|\n",
            "|         1|         35|      210|2022-02-28 23:00:00|2022-02-28 00:00:00|weekday|  evening|\n",
            "|         1|          7|       62|2022-03-01 03:00:00|2022-03-01 00:00:00|weekday|overnight|\n",
            "|         1|        104|       25|2022-03-01 07:00:00|2022-03-01 00:00:00|weekday|overnight|\n",
            "|         1|        443|       97|2022-03-01 11:00:00|2022-03-01 00:00:00|weekday|  morning|\n",
            "|         1|        130|      121|2022-03-01 15:00:00|2022-03-01 00:00:00|weekday|  morning|\n",
            "|         1|        114|      457|2022-03-01 19:00:00|2022-03-01 00:00:00|weekday|  evening|\n",
            "|         1|         36|      251|2022-03-01 23:00:00|2022-03-01 00:00:00|weekday|  evening|\n",
            "|         1|         10|       77|2022-03-02 03:00:00|2022-03-02 00:00:00|weekday|overnight|\n",
            "|         1|         96|       35|2022-03-02 07:00:00|2022-03-02 00:00:00|weekday|overnight|\n",
            "|         1|        370|       91|2022-03-02 11:00:00|2022-03-02 00:00:00|weekday|  morning|\n",
            "|         1|        135|      139|2022-03-02 15:00:00|2022-03-02 00:00:00|weekday|  morning|\n",
            "|         1|        133|      424|2022-03-02 19:00:00|2022-03-02 00:00:00|weekday|  evening|\n",
            "|         1|         32|      237|2022-03-02 23:00:00|2022-03-02 00:00:00|weekday|  evening|\n",
            "|         1|         11|       79|2022-03-03 03:00:00|2022-03-03 00:00:00|weekday|overnight|\n",
            "|         1|        103|       34|2022-03-03 07:00:00|2022-03-03 00:00:00|weekday|overnight|\n",
            "|         1|        343|       83|2022-03-03 11:00:00|2022-03-03 00:00:00|weekday|  morning|\n",
            "|         1|        155|      131|2022-03-03 15:00:00|2022-03-03 00:00:00|weekday|  morning|\n",
            "|         1|        137|      473|2022-03-03 19:00:00|2022-03-03 00:00:00|weekday|  evening|\n",
            "|         1|         47|      238|2022-03-03 23:00:00|2022-03-03 00:00:00|weekday|  evening|\n",
            "|         1|          9|       80|2022-03-04 03:00:00|2022-03-04 00:00:00|weekday|overnight|\n",
            "|         1|        100|       32|2022-03-04 07:00:00|2022-03-04 00:00:00|weekday|overnight|\n",
            "|         1|        351|      103|2022-03-04 11:00:00|2022-03-04 00:00:00|weekday|  morning|\n",
            "|         1|        145|      128|2022-03-04 15:00:00|2022-03-04 00:00:00|weekday|  morning|\n",
            "|         1|        161|      413|2022-03-04 19:00:00|2022-03-04 00:00:00|weekday|  evening|\n",
            "|         1|         58|      205|2022-03-04 23:00:00|2022-03-04 00:00:00|weekday|  evening|\n",
            "|         1|         12|      112|2022-03-05 03:00:00|2022-03-05 00:00:00|weekend|overnight|\n",
            "|         1|         26|       22|2022-03-05 07:00:00|2022-03-05 00:00:00|weekend|overnight|\n",
            "|         1|        127|       59|2022-03-05 11:00:00|2022-03-05 00:00:00|weekend|  morning|\n",
            "|         1|        126|      119|2022-03-05 15:00:00|2022-03-05 00:00:00|weekend|  morning|\n",
            "|         1|        116|      198|2022-03-05 19:00:00|2022-03-05 00:00:00|weekend|  evening|\n",
            "|         1|         38|      161|2022-03-05 23:00:00|2022-03-05 00:00:00|weekend|  evening|\n",
            "|         1|          7|       93|2022-03-06 03:00:00|2022-03-06 00:00:00|weekend|overnight|\n",
            "|         1|         18|       12|2022-03-06 07:00:00|2022-03-06 00:00:00|weekend|overnight|\n",
            "+----------+-----------+---------+-------------------+-------------------+-------+---------+\n",
            "only showing top 50 rows\n",
            "\n"
          ]
        }
      ]
    },
    {
      "cell_type": "code",
      "source": [
        "#Aggregate on complex_id, timestamp and unit_division to get all entries and exits for each station\n",
        "complex_id_entry_exit_df = complex_id_df.groupBy('Day','DOW','TOD','complex_id')\\\n",
        "                                        .sum('net_entries','net_exits')\\\n",
        "                                        .withColumnRenamed('sum(net_entries)', 'entries')\\\n",
        "                                        .withColumnRenamed('sum(net_exits)', 'exits')\n",
        "complex_id_entry_exit_df.show(5)"
      ],
      "metadata": {
        "colab": {
          "base_uri": "https://localhost:8080/"
        },
        "outputId": "809e9130-3151-4fde-ed99-8dc10d1c471b",
        "id": "PggmAdi9JQp8"
      },
      "execution_count": 39,
      "outputs": [
        {
          "output_type": "stream",
          "name": "stdout",
          "text": [
            "+-------------------+-------+---------+----------+-------+-----+\n",
            "|                Day|    DOW|      TOD|complex_id|entries|exits|\n",
            "+-------------------+-------+---------+----------+-------+-----+\n",
            "|2022-03-09 00:00:00|weekday|  morning|       613|  11317|37339|\n",
            "|2022-03-22 00:00:00|weekday|overnight|       613|    569|  378|\n",
            "|2022-03-30 00:00:00|weekday|  evening|       613|  21359|12695|\n",
            "|2022-04-04 00:00:00|weekday|  morning|       607|  19108|36139|\n",
            "|2022-03-03 00:00:00|weekday|overnight|        14|    235|  421|\n",
            "+-------------------+-------+---------+----------+-------+-----+\n",
            "only showing top 5 rows\n",
            "\n"
          ]
        }
      ]
    },
    {
      "cell_type": "code",
      "source": [
        "print(complex_id_entry_exit_df.count())\n",
        "complex_id_entry_exit_df.describe(['entries', 'exits']).show()"
      ],
      "metadata": {
        "colab": {
          "base_uri": "https://localhost:8080/"
        },
        "id": "4MLLyCO2X3ra",
        "outputId": "7dbe5a4d-f4a0-4b0e-a07c-4c34dca6dd43"
      },
      "execution_count": 40,
      "outputs": [
        {
          "output_type": "stream",
          "name": "stdout",
          "text": [
            "71715\n",
            "+-------+------------------+-----------------+\n",
            "|summary|           entries|            exits|\n",
            "+-------+------------------+-----------------+\n",
            "|  count|             71715|            71715|\n",
            "|   mean|1641.5427734783518|2084.226033605243|\n",
            "| stddev| 3607.969891814449|4590.236950551468|\n",
            "|    min|                 0|                0|\n",
            "|    max|             85791|            88760|\n",
            "+-------+------------------+-----------------+\n",
            "\n"
          ]
        }
      ]
    },
    {
      "cell_type": "code",
      "source": [
        "#Aggregate on complex_id, weekend/weekday status, Morning, Evening, Overnight\n",
        "final_agg_df = complex_id_entry_exit_df.groupBy('DOW','TOD','complex_id').mean('entries','exits').sort(F.col('complex_ID'))"
      ],
      "metadata": {
        "id": "6rJGm7tSGCBi"
      },
      "execution_count": 41,
      "outputs": []
    },
    {
      "cell_type": "code",
      "source": [
        "weekend_morning = final_agg_df.filter((final_agg_df.DOW == 'weekend') & (final_agg_df.TOD == 'morning')).toPandas()\n",
        "weekend_evening = final_agg_df.filter((final_agg_df.DOW == 'weekend') & (final_agg_df.TOD == 'evening')).toPandas()\n",
        "weekend_overnight = final_agg_df.filter((final_agg_df.DOW == 'weekend') & (final_agg_df.TOD == 'overnight')).toPandas()\n",
        "weekday_morning = final_agg_df.filter((final_agg_df.DOW == 'weekday') & (final_agg_df.TOD == 'morning')).toPandas()\n",
        "weekday_evening = final_agg_df.filter((final_agg_df.DOW == 'weekday') & (final_agg_df.TOD == 'evening')).toPandas()\n",
        "weekday_overnight = final_agg_df.filter((final_agg_df.DOW == 'weekday') & (final_agg_df.TOD == 'overnight')).toPandas()"
      ],
      "metadata": {
        "id": "HyuopdAP9ITA"
      },
      "execution_count": 42,
      "outputs": []
    },
    {
      "cell_type": "code",
      "source": [
        "#Sanity Check\n",
        "(weekday_morning['avg(entries)'].sum() + weekday_evening['avg(entries)'].sum() + weekday_overnight['avg(entries)'].sum())"
      ],
      "metadata": {
        "colab": {
          "base_uri": "https://localhost:8080/"
        },
        "id": "IJd-nCFp-CsW",
        "outputId": "92e5dc3d-75e4-416d-abe3-0053f3c2ed2b"
      },
      "execution_count": 43,
      "outputs": [
        {
          "output_type": "execute_result",
          "data": {
            "text/plain": [
              "2438463.8876068373"
            ]
          },
          "metadata": {},
          "execution_count": 43
        }
      ]
    },
    {
      "cell_type": "code",
      "source": [
        "#Sanity Check\n",
        "weekday_morning['avg(exits)'].sum() + weekday_evening['avg(exits)'].sum() + weekday_overnight['avg(exits)'].sum()"
      ],
      "metadata": {
        "id": "4edrkSzbT5zE",
        "outputId": "1256dbab-ac4a-4ba1-e22f-fce8f5937ff1",
        "colab": {
          "base_uri": "https://localhost:8080/"
        }
      },
      "execution_count": 44,
      "outputs": [
        {
          "output_type": "execute_result",
          "data": {
            "text/plain": [
              "3004871.1155982907"
            ]
          },
          "metadata": {},
          "execution_count": 44
        }
      ]
    },
    {
      "cell_type": "code",
      "source": [
        "#Sanity Check\n",
        "weekend_morning['avg(entries)'].sum() + weekend_evening['avg(entries)'].sum() + weekend_overnight['avg(entries)'].sum()"
      ],
      "metadata": {
        "colab": {
          "base_uri": "https://localhost:8080/"
        },
        "id": "Zi-vg9TZDI_W",
        "outputId": "497148ae-47c4-431b-d09d-b94dc75ffb28"
      },
      "execution_count": 45,
      "outputs": [
        {
          "output_type": "execute_result",
          "data": {
            "text/plain": [
              "1262210.8958333333"
            ]
          },
          "metadata": {},
          "execution_count": 45
        }
      ]
    },
    {
      "cell_type": "code",
      "source": [
        "#Sanity Check\n",
        "weekend_morning['avg(exits)'].sum() + weekend_evening['avg(exits)'].sum() + weekend_overnight['avg(exits)'].sum()"
      ],
      "metadata": {
        "id": "xM9kRzLZodnE",
        "outputId": "eb1adb5b-4524-4d36-e316-658e915cb640",
        "colab": {
          "base_uri": "https://localhost:8080/"
        }
      },
      "execution_count": 48,
      "outputs": [
        {
          "output_type": "execute_result",
          "data": {
            "text/plain": [
              "1831265.1416666666"
            ]
          },
          "metadata": {},
          "execution_count": 48
        }
      ]
    },
    {
      "cell_type": "code",
      "source": [
        "weekday_evening.count()"
      ],
      "metadata": {
        "colab": {
          "base_uri": "https://localhost:8080/"
        },
        "id": "5RJOIPwXnJ6v",
        "outputId": "069fc8f5-300e-4306-b944-ff6f91ef83ff"
      },
      "execution_count": 49,
      "outputs": [
        {
          "output_type": "execute_result",
          "data": {
            "text/plain": [
              "DOW             427\n",
              "TOD             427\n",
              "complex_id      427\n",
              "avg(entries)    427\n",
              "avg(exits)      427\n",
              "dtype: int64"
            ]
          },
          "metadata": {},
          "execution_count": 49
        }
      ]
    },
    {
      "cell_type": "code",
      "source": [
        "weekend_evening.loc[:425].to_csv('weekend_evening.csv')\n",
        "weekend_morning.loc[:425].to_csv('weekend_morning.csv')\n",
        "weekend_overnight.loc[:425].to_csv('weekend_overnight.csv')\n",
        "weekday_morning.loc[:425].to_csv('weekday_morning.csv')\n",
        "weekday_evening.loc[:425].to_csv('weekday_evening.csv')\n",
        "weekday_overnight.loc[:425].to_csv('weekday_overnight.csv')"
      ],
      "metadata": {
        "id": "gnQdkpiz72bf"
      },
      "execution_count": 47,
      "outputs": []
    }
  ]
}