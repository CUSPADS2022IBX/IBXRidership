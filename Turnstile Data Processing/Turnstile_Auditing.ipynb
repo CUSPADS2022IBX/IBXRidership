{
  "nbformat": 4,
  "nbformat_minor": 0,
  "metadata": {
    "colab": {
      "name": "Turnstile Auditing (Generate Turnstiles by Weekday/Weekend)",
      "provenance": [],
      "collapsed_sections": [],
      "authorship_tag": "ABX9TyNMWlkL2bB+y31Wkivqci48",
      "include_colab_link": true
    },
    "kernelspec": {
      "name": "python3",
      "display_name": "Python 3"
    },
    "language_info": {
      "name": "python"
    }
  },
  "cells": [
    {
      "cell_type": "markdown",
      "metadata": {
        "id": "view-in-github",
        "colab_type": "text"
      },
      "source": [
        "<a href=\"https://colab.research.google.com/github/CUSPADS2022IBX/IBXRidership/blob/main/Turnstile%20Data%20Processing/Turnstile_Auditing.ipynb\" target=\"_parent\"><img src=\"https://colab.research.google.com/assets/colab-badge.svg\" alt=\"Open In Colab\"/></a>"
      ]
    },
    {
      "cell_type": "markdown",
      "source": [
        "Data Source: http://web.mta.info/developers/turnstile.html\n",
        "\n",
        "Example:\n",
        "\n",
        "The data below shows the entry/exit register values for one turnstile at control area (A002) from 09/27/14 at 00:00 hours to 09/29/14 at 00:00 hours\n",
        "\n",
        "Schema Example:\n",
        "C/A,UNIT,SCP,STATION,LINENAME,DIVISION,DATE,TIME,DESC,ENTRIES,EXITS\n",
        "A002,R051,02-00-00,LEXINGTON AVE,456NQR,BMT,09-27-14,00:00:00,REGULAR,0004800073,0001629137,\n",
        "\n",
        "Data cleaning and processing resources used:\n",
        "\n",
        "1)https://medium.com/qri-io/taming-the-mtas-unruly-turnstile-data-c945f5f96ba0\n",
        "\n",
        "2)https://toddwschneider.com/dashboards/nyc-subway-turnstiles/#notes\n"
      ],
      "metadata": {
        "id": "8HzqGRmo_BsS"
      }
    },
    {
      "cell_type": "code",
      "source": [
        "!pip install pyspark\n",
        "!pip install --upgrade xlrd"
      ],
      "metadata": {
        "colab": {
          "base_uri": "https://localhost:8080/"
        },
        "id": "ZalDTGmcDQmE",
        "outputId": "1c56bc00-80dd-4239-a42c-9128a5d013c4"
      },
      "execution_count": 84,
      "outputs": [
        {
          "output_type": "stream",
          "name": "stdout",
          "text": [
            "Requirement already satisfied: pyspark in /usr/local/lib/python3.7/dist-packages (3.2.1)\n",
            "Requirement already satisfied: py4j==0.10.9.3 in /usr/local/lib/python3.7/dist-packages (from pyspark) (0.10.9.3)\n",
            "Requirement already satisfied: xlrd in /usr/local/lib/python3.7/dist-packages (2.0.1)\n"
          ]
        }
      ]
    },
    {
      "cell_type": "code",
      "execution_count": 85,
      "metadata": {
        "id": "ijUc954X941k"
      },
      "outputs": [],
      "source": [
        "import pandas as pd\n",
        "import numpy as np\n",
        "from datetime import datetime, date, timedelta\n",
        "import pyspark\n",
        "from pyspark.sql import SparkSession\n",
        "from pyspark.sql import functions as F\n",
        "from pyspark.sql import types as T\n",
        "from pyspark.sql.window import Window\n",
        "from pyspark import SparkFiles\n",
        "\n",
        "sc = pyspark.SparkContext.getOrCreate()\n",
        "spark = SparkSession(sc)\n",
        "\n",
        "#The start date has to match the date of the first URL in the MTA turnstile data, otherwise the URL pull will not work. Data is reported every Saturday.\n",
        "#NOTE: On November 20, 2021 MTA changed their normal turnstile count periods from [12AM, 4AM, 8AM, 12PM, 4PM, 8PM] to [3AM, 7AM, 11AM, 3PM, 7PM, 11PM]\n",
        "start_date = date(2022,3, 5)\n",
        "end_date = date(2022, 4, 23)\n",
        "\n",
        "#Create a list of dates for the date range requested\n",
        "date_range = list(pd.date_range(start_date, end_date, freq='7D').strftime(\"%y%m%d\"))\n",
        "\n",
        "#MTA tunrstile schema, 'EXITS' kepts giving nulls when imported as IntegerType\n",
        "mta_turnstile_schema = T.StructType([\n",
        "  T.StructField('C/A', T.StringType(), True),\n",
        "  T.StructField('UNIT', T.StringType(), True),\n",
        "  T.StructField('SCP', T.StringType(), True),\n",
        "  T.StructField('STATION', T.StringType(), True),\n",
        "  T.StructField('LINENAME', T.StringType(), True),\n",
        "  T.StructField('DIVISION', T.StringType(), True),\n",
        "  T.StructField('DATE', T.StringType(), True),\n",
        "  T.StructField('TIME', T.StringType(), True),\n",
        "  T.StructField('DESC', T.StringType(), True),\n",
        "  T.StructField('ENTRIES', T.IntegerType(), True),\n",
        "  T.StructField('EXITS', T.FloatType(), True),\n",
        "  ])\n",
        "\n",
        "#Create empty dataframe with previous scheme\n",
        "bigdf = spark.createDataFrame([], mta_turnstile_schema)\n",
        "\n",
        "#Download each .txt file on to Spark job node and load into Spark DataFrame and union onto Empty DataFrame we created\n",
        "for date_string in date_range:\n",
        "  url = 'http://web.mta.info/developers/data/nyct/turnstile/turnstile_{}.txt'.format(date_string)\n",
        "  spark.sparkContext.addFile(url)\n",
        "  df = spark.read.csv(SparkFiles.get('turnstile_{}.txt'.format(date_string)), mta_turnstile_schema, header=True)\n",
        "  bigdf = bigdf.union(df)\n",
        "\n",
        "#Change 'EXITS' column data type to IntegerType and concate 'DATE' and 'TIME' columns and cast to datetime\n",
        "bigdf = bigdf.withColumn('EXITS',bigdf.EXITS.cast(T.IntegerType()))\\\n",
        "             .withColumn('timestamp',\n",
        "                         F.unix_timestamp(F.concat(bigdf.DATE,bigdf.TIME),'MM/dd/yyyyHH:mm:ss').cast('timestamp'))\n",
        "             \n",
        "#Create columns to represent unique observation id, and unique turnstile id for data processing             \n",
        "bigdf = bigdf.withColumn('unit_division', F.concat(bigdf.UNIT,bigdf.DIVISION))\\\n",
        "             .withColumn('unit_id', F.concat(bigdf['C/A'],bigdf.UNIT,bigdf.SCP))"
      ]
    },
    {
      "cell_type": "code",
      "source": [
        "bigdf.show(5)"
      ],
      "metadata": {
        "colab": {
          "base_uri": "https://localhost:8080/"
        },
        "id": "xgaNsDlGSByF",
        "outputId": "8d910cb9-60a7-4970-e2e2-e118c93a3f12"
      },
      "execution_count": 86,
      "outputs": [
        {
          "output_type": "stream",
          "name": "stdout",
          "text": [
            "+----+----+--------+-------+--------+--------+----------+--------+-------+-------+-------+-------------------+-------------+----------------+\n",
            "| C/A|UNIT|     SCP|STATION|LINENAME|DIVISION|      DATE|    TIME|   DESC|ENTRIES|  EXITS|          timestamp|unit_division|         unit_id|\n",
            "+----+----+--------+-------+--------+--------+----------+--------+-------+-------+-------+-------------------+-------------+----------------+\n",
            "|A002|R051|02-00-00|  59 ST| NQR456W|     BMT|02/26/2022|03:00:00|REGULAR|7689737|2671257|2022-02-26 03:00:00|      R051BMT|A002R05102-00-00|\n",
            "|A002|R051|02-00-00|  59 ST| NQR456W|     BMT|02/26/2022|07:00:00|REGULAR|7689741|2671278|2022-02-26 07:00:00|      R051BMT|A002R05102-00-00|\n",
            "|A002|R051|02-00-00|  59 ST| NQR456W|     BMT|02/26/2022|11:00:00|REGULAR|7689758|2671380|2022-02-26 11:00:00|      R051BMT|A002R05102-00-00|\n",
            "|A002|R051|02-00-00|  59 ST| NQR456W|     BMT|02/26/2022|15:00:00|REGULAR|7689791|2671465|2022-02-26 15:00:00|      R051BMT|A002R05102-00-00|\n",
            "|A002|R051|02-00-00|  59 ST| NQR456W|     BMT|02/26/2022|19:00:00|REGULAR|7689858|2671530|2022-02-26 19:00:00|      R051BMT|A002R05102-00-00|\n",
            "+----+----+--------+-------+--------+--------+----------+--------+-------+-------+-------+-------------------+-------------+----------------+\n",
            "only showing top 5 rows\n",
            "\n"
          ]
        }
      ]
    },
    {
      "cell_type": "code",
      "source": [
        "print(bigdf.count())\n",
        "bigdf.describe(['ENTRIES', 'EXITS']).show()"
      ],
      "metadata": {
        "colab": {
          "base_uri": "https://localhost:8080/"
        },
        "id": "ooPFcJpe_-Fu",
        "outputId": "2c8fd168-6696-40e0-c867-60a8736b3385"
      },
      "execution_count": 87,
      "outputs": [
        {
          "output_type": "stream",
          "name": "stdout",
          "text": [
            "1684150\n",
            "+-------+--------------------+--------------------+\n",
            "|summary|             ENTRIES|               EXITS|\n",
            "+-------+--------------------+--------------------+\n",
            "|  count|             1684150|             1684150|\n",
            "|   mean|  4.27020266821542E7|3.4312966725517325E7|\n",
            "| stddev|2.2301099300602618E8|  1.96194359027336E8|\n",
            "|    min|                   0|                   0|\n",
            "|    max|          2147319334|          2122443392|\n",
            "+-------+--------------------+--------------------+\n",
            "\n"
          ]
        }
      ]
    },
    {
      "cell_type": "code",
      "source": [
        "#Use utility function window to partition by turnstile and order by timestamp\n",
        "window = Window.partitionBy('unit_id').orderBy('timestamp')\n",
        "\n",
        "#Use previous window to find the 'net_entries' and 'net_exits'. Remove all entries that are above 10000, because\n",
        "#turnstiles act as odometers, and when turnstile reaches end it resets creating a large value. 10000 is a good cutoff.\n",
        "#Also drop first rows of each turnstile data, because .lag function creates None for first row.\n",
        "net_entry_exit = bigdf.withColumn('net_entries', F.abs(F.col('ENTRIES') - F.lag(F.col('ENTRIES'), 1).over(window)))\\\n",
        "                      .withColumn('net_exits', F.abs(F.col('EXITS') - F.lag(F.col('EXITS'), 1).over(window))).dropna()"
      ],
      "metadata": {
        "id": "nzkI8xCC_OOI"
      },
      "execution_count": 88,
      "outputs": []
    },
    {
      "cell_type": "code",
      "source": [
        "print(net_entry_exit.count())\n",
        "net_entry_exit.describe(['net_entries', 'net_exits']).show()"
      ],
      "metadata": {
        "colab": {
          "base_uri": "https://localhost:8080/"
        },
        "id": "t_li6XlJDNe8",
        "outputId": "e1e65a9b-10d1-44f4-c69e-6ae64d9413d5"
      },
      "execution_count": 89,
      "outputs": [
        {
          "output_type": "stream",
          "name": "stdout",
          "text": [
            "1679109\n",
            "+-------+------------------+------------------+\n",
            "|summary|       net_entries|         net_exits|\n",
            "+-------+------------------+------------------+\n",
            "|  count|           1679109|           1679109|\n",
            "|   mean|3636.3177625752705| 3958.484421201959|\n",
            "| stddev|1866207.4947073061|2090951.0729941803|\n",
            "|    min|                 0|                 0|\n",
            "|    max|        1278711326|        1871701216|\n",
            "+-------+------------------+------------------+\n",
            "\n"
          ]
        }
      ]
    },
    {
      "cell_type": "code",
      "source": [
        "net_entry_exit = net_entry_exit.filter((F.col('net_entries')<10000) & (F.col('net_exits')<10000))"
      ],
      "metadata": {
        "id": "eROnTxM6DK8N"
      },
      "execution_count": 90,
      "outputs": []
    },
    {
      "cell_type": "code",
      "source": [
        "print(net_entry_exit.count())\n",
        "net_entry_exit.describe(['net_entries', 'net_exits']).show()"
      ],
      "metadata": {
        "colab": {
          "base_uri": "https://localhost:8080/"
        },
        "id": "s_PDrW3KAJe0",
        "outputId": "ee427d51-0f2d-4acb-9b1d-59c884b1fa3a"
      },
      "execution_count": 91,
      "outputs": [
        {
          "output_type": "stream",
          "name": "stdout",
          "text": [
            "1678901\n",
            "+-------+-----------------+------------------+\n",
            "|summary|      net_entries|         net_exits|\n",
            "+-------+-----------------+------------------+\n",
            "|  count|          1678901|           1678901|\n",
            "|   mean|70.30216433250085| 89.40866793217707|\n",
            "| stddev|  104.14214187233|142.35420633867332|\n",
            "|    min|                0|                 0|\n",
            "|    max|             9834|              8934|\n",
            "+-------+-----------------+------------------+\n",
            "\n"
          ]
        }
      ]
    },
    {
      "cell_type": "code",
      "source": [
        "net_entry_exit.show(5)"
      ],
      "metadata": {
        "colab": {
          "base_uri": "https://localhost:8080/"
        },
        "id": "laV2bxTiJJok",
        "outputId": "1491e209-0dbf-4def-c725-e585f21afeee"
      },
      "execution_count": 92,
      "outputs": [
        {
          "output_type": "stream",
          "name": "stdout",
          "text": [
            "+----+----+--------+-------+--------+--------+----------+--------+-------+-------+-------+-------------------+-------------+----------------+-----------+---------+\n",
            "| C/A|UNIT|     SCP|STATION|LINENAME|DIVISION|      DATE|    TIME|   DESC|ENTRIES|  EXITS|          timestamp|unit_division|         unit_id|net_entries|net_exits|\n",
            "+----+----+--------+-------+--------+--------+----------+--------+-------+-------+-------+-------------------+-------------+----------------+-----------+---------+\n",
            "|A002|R051|02-00-01|  59 ST| NQR456W|     BMT|02/26/2022|07:00:00|REGULAR|6803071|1576712|2022-02-26 07:00:00|      R051BMT|A002R05102-00-01|          2|       10|\n",
            "|A002|R051|02-00-01|  59 ST| NQR456W|     BMT|02/26/2022|11:00:00|REGULAR|6803085|1576759|2022-02-26 11:00:00|      R051BMT|A002R05102-00-01|         14|       47|\n",
            "|A002|R051|02-00-01|  59 ST| NQR456W|     BMT|02/26/2022|15:00:00|REGULAR|6803131|1576797|2022-02-26 15:00:00|      R051BMT|A002R05102-00-01|         46|       38|\n",
            "|A002|R051|02-00-01|  59 ST| NQR456W|     BMT|02/26/2022|19:00:00|REGULAR|6803195|1576836|2022-02-26 19:00:00|      R051BMT|A002R05102-00-01|         64|       39|\n",
            "|A002|R051|02-00-01|  59 ST| NQR456W|     BMT|02/26/2022|23:00:00|REGULAR|6803246|1576854|2022-02-26 23:00:00|      R051BMT|A002R05102-00-01|         51|       18|\n",
            "+----+----+--------+-------+--------+--------+----------+--------+-------+-------+-------+-------------------+-------------+----------------+-----------+---------+\n",
            "only showing top 5 rows\n",
            "\n"
          ]
        }
      ]
    },
    {
      "cell_type": "code",
      "source": [
        "#Upload Remote_complex_lookup table and create key table for unit_division join\n",
        "#Manually checked if complex_id was correct (google sheets for reference: https://docs.google.com/spreadsheets/d/1kMmoqzq3uWM5J8Esrzi1DPEBrdezzVtQ1Rv5ZAIsEfk/edit?usp=sharing)\n",
        "remote_complex_url = 'https://raw.githubusercontent.com/qri-io/data-stories-scripts/master/nyc-turnstile-counts/lookup/remote_complex_lookup.csv'\n",
        "remote_complex = pd.read_csv(remote_complex_url).sort_values('station')\n",
        "remote_complex['complex_id'] = remote_complex['complex_id'].astype('Int64').astype('str')\n",
        "remote_complex['unit_division'] = remote_complex['remote ']+remote_complex['division']\n",
        "remote_complex = pd.DataFrame(remote_complex.groupby(['unit_division', 'complex_id']).size()).reset_index()\n",
        "remote_complex_spark = spark.createDataFrame(remote_complex)\n",
        "\n",
        "print(remote_complex.count())\n",
        "remote_complex_spark.show(5)"
      ],
      "metadata": {
        "colab": {
          "base_uri": "https://localhost:8080/"
        },
        "id": "NOJwzJXOUFJW",
        "outputId": "f090d36f-42fa-4415-8017-8241dc758598"
      },
      "execution_count": 93,
      "outputs": [
        {
          "output_type": "stream",
          "name": "stdout",
          "text": [
            "unit_division    506\n",
            "complex_id       506\n",
            "0                506\n",
            "dtype: int64\n",
            "+-------------+----------+---+\n",
            "|unit_division|complex_id|  0|\n",
            "+-------------+----------+---+\n",
            "|      R001BMT|       635|  2|\n",
            "|      R001IRT|       635|  1|\n",
            "|      R002BMT|       628|  3|\n",
            "|      R003BMT|        86|  1|\n",
            "|      R004BMT|        85|  1|\n",
            "+-------------+----------+---+\n",
            "only showing top 5 rows\n",
            "\n"
          ]
        }
      ]
    },
    {
      "cell_type": "code",
      "source": [
        "#join to the entry_exit_df to create unique complex_Id column to aggregate on\n",
        "complex_id_df = net_entry_exit.join(remote_complex_spark, net_entry_exit.unit_division==remote_complex_spark.unit_division, how='left')\\\n",
        "                              .select('complex_id','net_entries','net_exits', 'timestamp').sort(F.col('complex_id')).dropna()"
      ],
      "metadata": {
        "id": "wWOnEukYPMDo"
      },
      "execution_count": 94,
      "outputs": []
    },
    {
      "cell_type": "code",
      "source": [
        "complex_id_df.show(5)"
      ],
      "metadata": {
        "colab": {
          "base_uri": "https://localhost:8080/"
        },
        "id": "Lf3Ssfc-Ueqq",
        "outputId": "10a6fc7a-c77c-42ff-ea64-be777a264794"
      },
      "execution_count": 95,
      "outputs": [
        {
          "output_type": "stream",
          "name": "stdout",
          "text": [
            "+----------+-----------+---------+-------------------+\n",
            "|complex_id|net_entries|net_exits|          timestamp|\n",
            "+----------+-----------+---------+-------------------+\n",
            "|         1|         26|       49|2022-02-26 07:00:00|\n",
            "|         1|         12|      200|2022-02-27 03:00:00|\n",
            "|         1|        123|      194|2022-02-26 11:00:00|\n",
            "|         1|        146|      310|2022-02-26 15:00:00|\n",
            "|         1|        122|      422|2022-02-26 19:00:00|\n",
            "+----------+-----------+---------+-------------------+\n",
            "only showing top 5 rows\n",
            "\n"
          ]
        }
      ]
    },
    {
      "cell_type": "code",
      "source": [
        "print(complex_id_df.count())\n",
        "complex_id_df.describe(['net_entries', 'net_exits']).show()"
      ],
      "metadata": {
        "colab": {
          "base_uri": "https://localhost:8080/"
        },
        "id": "Ea4krWWlUtzr",
        "outputId": "14cf0159-d7a0-45ae-e3b0-ec324330a4b5"
      },
      "execution_count": 96,
      "outputs": [
        {
          "output_type": "stream",
          "name": "stdout",
          "text": [
            "1669809\n",
            "+-------+------------------+------------------+\n",
            "|summary|       net_entries|         net_exits|\n",
            "+-------+------------------+------------------+\n",
            "|  count|           1669809|           1669809|\n",
            "|   mean| 70.50102137430089| 89.51339344799315|\n",
            "| stddev|104.30069926047543|142.42225900403477|\n",
            "|    min|                 0|                 0|\n",
            "|    max|              9834|              8934|\n",
            "+-------+------------------+------------------+\n",
            "\n"
          ]
        }
      ]
    },
    {
      "cell_type": "code",
      "source": [
        "#Create new column for 'Day' \n",
        "DOW_df = complex_id_df.withColumn('Day', F.date_trunc('day', F.col('timestamp')))"
      ],
      "metadata": {
        "id": "zREEZB31AQ79"
      },
      "execution_count": 97,
      "outputs": []
    },
    {
      "cell_type": "code",
      "source": [
        "DOW_df.show(50)"
      ],
      "metadata": {
        "colab": {
          "base_uri": "https://localhost:8080/"
        },
        "id": "UN1I7476EnZK",
        "outputId": "816e6528-3a9f-44ca-d164-8380dda06a32"
      },
      "execution_count": 98,
      "outputs": [
        {
          "output_type": "stream",
          "name": "stdout",
          "text": [
            "+----------+-----------+---------+-------------------+-------------------+\n",
            "|complex_id|net_entries|net_exits|          timestamp|                Day|\n",
            "+----------+-----------+---------+-------------------+-------------------+\n",
            "|         1|         20|       18|2022-02-26 07:00:00|2022-02-26 00:00:00|\n",
            "|         1|        115|       87|2022-03-06 15:00:00|2022-03-06 00:00:00|\n",
            "|         1|        111|       73|2022-02-26 11:00:00|2022-02-26 00:00:00|\n",
            "|         1|        132|      132|2022-02-26 15:00:00|2022-02-26 00:00:00|\n",
            "|         1|        116|      248|2022-02-26 19:00:00|2022-02-26 00:00:00|\n",
            "|         1|         61|      164|2022-02-26 23:00:00|2022-02-26 00:00:00|\n",
            "|         1|         11|      100|2022-02-27 03:00:00|2022-02-27 00:00:00|\n",
            "|         1|         15|       17|2022-02-27 07:00:00|2022-02-27 00:00:00|\n",
            "|         1|         88|       54|2022-02-27 11:00:00|2022-02-27 00:00:00|\n",
            "|         1|         85|      101|2022-02-27 15:00:00|2022-02-27 00:00:00|\n",
            "|         1|         70|      189|2022-02-27 19:00:00|2022-02-27 00:00:00|\n",
            "|         1|         31|      141|2022-02-27 23:00:00|2022-02-27 00:00:00|\n",
            "|         1|          7|       37|2022-02-28 03:00:00|2022-02-28 00:00:00|\n",
            "|         1|         94|       24|2022-02-28 07:00:00|2022-02-28 00:00:00|\n",
            "|         1|        348|      102|2022-02-28 11:00:00|2022-02-28 00:00:00|\n",
            "|         1|        117|      131|2022-02-28 15:00:00|2022-02-28 00:00:00|\n",
            "|         1|        133|      431|2022-02-28 19:00:00|2022-02-28 00:00:00|\n",
            "|         1|         35|      210|2022-02-28 23:00:00|2022-02-28 00:00:00|\n",
            "|         1|          7|       62|2022-03-01 03:00:00|2022-03-01 00:00:00|\n",
            "|         1|        104|       25|2022-03-01 07:00:00|2022-03-01 00:00:00|\n",
            "|         1|        443|       97|2022-03-01 11:00:00|2022-03-01 00:00:00|\n",
            "|         1|        130|      121|2022-03-01 15:00:00|2022-03-01 00:00:00|\n",
            "|         1|        114|      457|2022-03-01 19:00:00|2022-03-01 00:00:00|\n",
            "|         1|         36|      251|2022-03-01 23:00:00|2022-03-01 00:00:00|\n",
            "|         1|         10|       77|2022-03-02 03:00:00|2022-03-02 00:00:00|\n",
            "|         1|         96|       35|2022-03-02 07:00:00|2022-03-02 00:00:00|\n",
            "|         1|        370|       91|2022-03-02 11:00:00|2022-03-02 00:00:00|\n",
            "|         1|        135|      139|2022-03-02 15:00:00|2022-03-02 00:00:00|\n",
            "|         1|        133|      424|2022-03-02 19:00:00|2022-03-02 00:00:00|\n",
            "|         1|         32|      237|2022-03-02 23:00:00|2022-03-02 00:00:00|\n",
            "|         1|         11|       79|2022-03-03 03:00:00|2022-03-03 00:00:00|\n",
            "|         1|        103|       34|2022-03-03 07:00:00|2022-03-03 00:00:00|\n",
            "|         1|        343|       83|2022-03-03 11:00:00|2022-03-03 00:00:00|\n",
            "|         1|        155|      131|2022-03-03 15:00:00|2022-03-03 00:00:00|\n",
            "|         1|        137|      473|2022-03-03 19:00:00|2022-03-03 00:00:00|\n",
            "|         1|         47|      238|2022-03-03 23:00:00|2022-03-03 00:00:00|\n",
            "|         1|          9|       80|2022-03-04 03:00:00|2022-03-04 00:00:00|\n",
            "|         1|        100|       32|2022-03-04 07:00:00|2022-03-04 00:00:00|\n",
            "|         1|        351|      103|2022-03-04 11:00:00|2022-03-04 00:00:00|\n",
            "|         1|        145|      128|2022-03-04 15:00:00|2022-03-04 00:00:00|\n",
            "|         1|        161|      413|2022-03-04 19:00:00|2022-03-04 00:00:00|\n",
            "|         1|         58|      205|2022-03-04 23:00:00|2022-03-04 00:00:00|\n",
            "|         1|         12|      112|2022-03-05 03:00:00|2022-03-05 00:00:00|\n",
            "|         1|         26|       22|2022-03-05 07:00:00|2022-03-05 00:00:00|\n",
            "|         1|        127|       59|2022-03-05 11:00:00|2022-03-05 00:00:00|\n",
            "|         1|        126|      119|2022-03-05 15:00:00|2022-03-05 00:00:00|\n",
            "|         1|        116|      198|2022-03-05 19:00:00|2022-03-05 00:00:00|\n",
            "|         1|         38|      161|2022-03-05 23:00:00|2022-03-05 00:00:00|\n",
            "|         1|          7|       93|2022-03-06 03:00:00|2022-03-06 00:00:00|\n",
            "|         1|         18|       12|2022-03-06 07:00:00|2022-03-06 00:00:00|\n",
            "+----------+-----------+---------+-------------------+-------------------+\n",
            "only showing top 50 rows\n",
            "\n"
          ]
        }
      ]
    },
    {
      "cell_type": "code",
      "source": [
        "#Aggregate on complex_id, timestamp and unit_division to get all entries and exits for each station\n",
        "complex_id_DAY_df = DOW_df.groupBy('Day','complex_id').sum('net_entries','net_exits').withColumnRenamed('sum(net_entries)', 'entries')\\\n",
        "                                                                                                         .withColumnRenamed('sum(net_exits)', 'exits')\n",
        "complex_id_DAY_df.show(5)"
      ],
      "metadata": {
        "colab": {
          "base_uri": "https://localhost:8080/"
        },
        "outputId": "3dfbd854-1886-4b6f-fe0e-dee95df45995",
        "id": "PggmAdi9JQp8"
      },
      "execution_count": 99,
      "outputs": [
        {
          "output_type": "stream",
          "name": "stdout",
          "text": [
            "+-------------------+----------+-------+-----+\n",
            "|                Day|complex_id|entries|exits|\n",
            "+-------------------+----------+-------+-----+\n",
            "|2022-03-02 00:00:00|         9|  12475|15462|\n",
            "|2022-04-20 00:00:00|        10|   9772|14307|\n",
            "|2022-03-06 00:00:00|       607|  20526|31707|\n",
            "|2022-03-12 00:00:00|        14|   5139| 5907|\n",
            "|2022-04-08 00:00:00|        14|   6878| 5728|\n",
            "+-------------------+----------+-------+-----+\n",
            "only showing top 5 rows\n",
            "\n"
          ]
        }
      ]
    },
    {
      "cell_type": "code",
      "source": [
        "complex_id_DAY_df.describe(['entries', 'exits']).show()"
      ],
      "metadata": {
        "colab": {
          "base_uri": "https://localhost:8080/"
        },
        "id": "8JQCcNPFKQVQ",
        "outputId": "15e4fc7c-4209-48c8-80b7-1ab3eacc853f"
      },
      "execution_count": 100,
      "outputs": [
        {
          "output_type": "stream",
          "name": "stdout",
          "text": [
            "+-------+-----------------+------------------+\n",
            "|summary|          entries|             exits|\n",
            "+-------+-----------------+------------------+\n",
            "|  count|            23908|             23908|\n",
            "|   mean|4924.010373096871| 6251.893508449055|\n",
            "| stddev|8671.154917856256|11007.321474012007|\n",
            "|    min|                0|                 0|\n",
            "|    max|           169204|            173370|\n",
            "+-------+-----------------+------------------+\n",
            "\n"
          ]
        }
      ]
    },
    {
      "cell_type": "code",
      "source": [
        "#Create new column for 'DOW' (day of week) to aggregate by weekends and weekdays.\n",
        "DAY_df = complex_id_DAY_df.withColumn('DOW', F.when((F.dayofweek(F.col('Day'))<7) & (F.dayofweek(F.col('Day'))>1),'weekday')\\\n",
        "                                                  .when((F.dayofweek(F.col('Day'))==7) | (F.dayofweek(F.col('Day'))==1),'weekend'))\n",
        "\n",
        "DAY_df.show(5)"
      ],
      "metadata": {
        "colab": {
          "base_uri": "https://localhost:8080/"
        },
        "id": "2Z6KsRGxMAAk",
        "outputId": "f0c2085c-0c74-4fe9-b0e3-0dfb4c617bc3"
      },
      "execution_count": 101,
      "outputs": [
        {
          "output_type": "stream",
          "name": "stdout",
          "text": [
            "+-------------------+----------+-------+-----+-------+\n",
            "|                Day|complex_id|entries|exits|    DOW|\n",
            "+-------------------+----------+-------+-----+-------+\n",
            "|2022-03-02 00:00:00|         9|  12475|15462|weekday|\n",
            "|2022-04-20 00:00:00|        10|   9772|14307|weekday|\n",
            "|2022-03-06 00:00:00|       607|  20526|31707|weekend|\n",
            "|2022-03-12 00:00:00|        14|   5139| 5907|weekend|\n",
            "|2022-04-08 00:00:00|        14|   6878| 5728|weekday|\n",
            "+-------------------+----------+-------+-----+-------+\n",
            "only showing top 5 rows\n",
            "\n"
          ]
        }
      ]
    },
    {
      "cell_type": "code",
      "source": [
        "#Find average ridership for weekdays and weekends\n",
        "DAY_avg_df = DAY_df.groupBy('DOW','complex_id').mean('entries','exits').sort(F.col('complex_ID'))\n",
        "\n",
        "DAY_avg_df.show(5)"
      ],
      "metadata": {
        "colab": {
          "base_uri": "https://localhost:8080/"
        },
        "id": "xCVH4CNXLoIc",
        "outputId": "8d8ff8ed-de01-433b-fc0e-1ac6bdabbfad"
      },
      "execution_count": 102,
      "outputs": [
        {
          "output_type": "stream",
          "name": "stdout",
          "text": [
            "+-------+----------+------------+----------+\n",
            "|    DOW|complex_id|avg(entries)|avg(exits)|\n",
            "+-------+----------+------------+----------+\n",
            "|weekend|         1|   3481.4375| 5802.6875|\n",
            "|weekday|         1|     6937.75|   9643.75|\n",
            "|weekday|        10|    8465.975| 12732.575|\n",
            "|weekend|        10|     7251.75|10609.5625|\n",
            "|weekday|       100|      1212.2|   1950.65|\n",
            "+-------+----------+------------+----------+\n",
            "only showing top 5 rows\n",
            "\n"
          ]
        }
      ]
    },
    {
      "cell_type": "code",
      "source": [
        "print(DAY_avg_df.count())\n",
        "DAY_avg_df.describe(['avg(entries)', 'avg(exits)']).show()"
      ],
      "metadata": {
        "colab": {
          "base_uri": "https://localhost:8080/"
        },
        "id": "i70dHQAAM4z8",
        "outputId": "6f386735-5238-401a-9cfc-35842aa0b2bc"
      },
      "execution_count": 103,
      "outputs": [
        {
          "output_type": "stream",
          "name": "stdout",
          "text": [
            "854\n",
            "+-------+-----------------+------------------+\n",
            "|summary|     avg(entries)|        avg(exits)|\n",
            "+-------+-----------------+------------------+\n",
            "|  count|              854|               854|\n",
            "|   mean|4332.989199518604| 5662.106111761641|\n",
            "| stddev|7864.438814557452|10059.578386482686|\n",
            "|    min|           0.0625|               0.0|\n",
            "|    max|        147316.35|        151180.825|\n",
            "+-------+-----------------+------------------+\n",
            "\n"
          ]
        }
      ]
    },
    {
      "cell_type": "code",
      "source": [
        "weekend_avg = DAY_avg_df.filter((DAY_avg_df.DOW == 'weekend')).toPandas()\n",
        "weekday_avg = DAY_avg_df.filter((DAY_avg_df.DOW == 'weekday')).toPandas()"
      ],
      "metadata": {
        "id": "njBr_wamND5O"
      },
      "execution_count": 104,
      "outputs": []
    },
    {
      "cell_type": "code",
      "source": [
        "weekday_avg['avg(entries)'].sum()"
      ],
      "metadata": {
        "colab": {
          "base_uri": "https://localhost:8080/"
        },
        "id": "qCWoBoVcRD_R",
        "outputId": "16cd9982-a57d-433e-9036-d0a7f7e3fb20"
      },
      "execution_count": 105,
      "outputs": [
        {
          "output_type": "execute_result",
          "data": {
            "text/plain": [
              "2438219.963888889"
            ]
          },
          "metadata": {},
          "execution_count": 105
        }
      ]
    },
    {
      "cell_type": "code",
      "source": [
        "weekend_avg['avg(entries)'].sum()"
      ],
      "metadata": {
        "colab": {
          "base_uri": "https://localhost:8080/"
        },
        "id": "8REl5AuFOAlw",
        "outputId": "cb07ef11-c90b-4990-af64-e1157ca5a539"
      },
      "execution_count": 106,
      "outputs": [
        {
          "output_type": "execute_result",
          "data": {
            "text/plain": [
              "1262152.8125"
            ]
          },
          "metadata": {},
          "execution_count": 106
        }
      ]
    },
    {
      "cell_type": "code",
      "source": [
        "weekend_avg.loc[:425].to_csv('weekend_avg.csv')\n",
        "weekday_avg.loc[:425].to_csv('weekday_avg.csv')"
      ],
      "metadata": {
        "id": "HUT2gVhW8pBF"
      },
      "execution_count": 59,
      "outputs": []
    },
    {
      "cell_type": "code",
      "source": [
        "stations_url = 'http://web.mta.info/developers/data/nyct/subway/Stations.csv'\n",
        "\n",
        "stations = pd.read_csv(stations_url).sort_values('Stop Name')\n",
        "\n",
        "#print(stations.groupby(['Complex ID','Stop Name','GTFS Stop ID','Division']).size().reset_index().rename(columns={0:'count'}))\n",
        "stations['Stop Name'] =  stations['Stop Name'].str.upper()\n",
        "#stations['Complex ID', 'GTFS Stop ID','Stop Name'].value_counts()\n",
        "\n",
        "stations.to_csv('stations_list.csv')"
      ],
      "metadata": {
        "colab": {
          "base_uri": "https://localhost:8080/"
        },
        "id": "IefF8iKI7GmB",
        "outputId": "f0fb8203-61f5-4a64-986d-5191a73392ac"
      },
      "execution_count": null,
      "outputs": [
        {
          "output_type": "stream",
          "name": "stdout",
          "text": [
            "     Complex ID                 Stop Name GTFS Stop ID Division  count\n",
            "0             1      Astoria-Ditmars Blvd          R01      BMT      1\n",
            "1             2              Astoria Blvd          R03      BMT      1\n",
            "2             3                     30 Av          R04      BMT      1\n",
            "3             4                  Broadway          R05      BMT      1\n",
            "4             5                     36 Av          R06      BMT      1\n",
            "..          ...                       ...          ...      ...    ...\n",
            "491         630        Myrtle-Wyckoff Avs          M08      BMT      1\n",
            "492         635               South Ferry          142      IRT      1\n",
            "493         635  Whitehall St-South Ferry          R27      BMT      1\n",
            "494         636          Jay St-MetroTech          A41      IND      1\n",
            "495         636          Jay St-MetroTech          R29      BMT      1\n",
            "\n",
            "[496 rows x 5 columns]\n"
          ]
        }
      ]
    },
    {
      "cell_type": "code",
      "source": [
        "stations_list = stations.groupby(['Complex ID','Stop Name','GTFS Stop ID', 'Division']).size().reset_index().rename(columns={0:'count'})\n",
        "stations_list.to_csv('stations_list.csv')"
      ],
      "metadata": {
        "id": "byHTmWPWPXnq"
      },
      "execution_count": null,
      "outputs": []
    },
    {
      "cell_type": "code",
      "source": [
        "stop_name = list(stations[['Stop Name','GTFS Stop ID','Complex ID']].unique())\n",
        "stop_name"
      ],
      "metadata": {
        "id": "u57TZtKIMqGP"
      },
      "execution_count": null,
      "outputs": []
    },
    {
      "cell_type": "code",
      "source": [
        "turnstile_key_url = 'http://web.mta.info/developers/resources/nyct/turnstile/Remote-Booth-Station.xls'\n",
        "\n",
        "turnstile_key = pd.read_excel(turnstile_key_url)\n",
        "pd.set_option('display.max_rows', turnstile_key.shape[0]+1)\n",
        "\n",
        "turnstile_key.head()\n",
        "print(turnstile_key.groupby(['Remote','Station']).size().reset_index().rename(columns={0:'count'}))"
      ],
      "metadata": {
        "id": "tnzU1Q9PhQFo"
      },
      "execution_count": null,
      "outputs": []
    }
  ]
}