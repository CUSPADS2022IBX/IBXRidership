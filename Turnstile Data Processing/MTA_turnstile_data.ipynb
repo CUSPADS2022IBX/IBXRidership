{
  "nbformat": 4,
  "nbformat_minor": 0,
  "metadata": {
    "colab": {
      "name": "MTA_turnstile_data.ipynb",
      "provenance": [],
      "authorship_tag": "ABX9TyOOorArH7X431udkTLhxjhT",
      "include_colab_link": true
    },
    "kernelspec": {
      "name": "python3",
      "display_name": "Python 3"
    },
    "language_info": {
      "name": "python"
    }
  },
  "cells": [
    {
      "cell_type": "markdown",
      "metadata": {
        "id": "view-in-github",
        "colab_type": "text"
      },
      "source": [
        "<a href=\"https://colab.research.google.com/github/CUSPADS2022IBX/IBXRidership/blob/main/Turnstile%20Data%20Processing/MTA_turnstile_data.ipynb\" target=\"_parent\"><img src=\"https://colab.research.google.com/assets/colab-badge.svg\" alt=\"Open In Colab\"/></a>"
      ]
    },
    {
      "cell_type": "markdown",
      "source": [
        "Data Source: http://web.mta.info/developers/turnstile.html\n",
        "\n",
        "Example:\n",
        "\n",
        "The data below shows the entry/exit register values for one turnstile at control area (A002) from 09/27/14 at 00:00 hours to 09/29/14 at 00:00 hours\n",
        "\n",
        "\n",
        "C/A,UNIT,SCP,STATION,LINENAME,DIVISION,DATE,TIME,DESC,ENTRIES,EXITS\n",
        "A002,R051,02-00-00,LEXINGTON AVE,456NQR,BMT,09-27-14,00:00:00,REGULAR,0004800073,0001629137,\n"
      ],
      "metadata": {
        "id": "8HzqGRmo_BsS"
      }
    },
    {
      "cell_type": "code",
      "source": [
        "!pip install pyspark\n",
        "!pip install --upgrade xlrd"
      ],
      "metadata": {
        "colab": {
          "base_uri": "https://localhost:8080/"
        },
        "id": "ZalDTGmcDQmE",
        "outputId": "3260448e-01bc-4478-9e86-35b4a1d59b55"
      },
      "execution_count": 1,
      "outputs": [
        {
          "output_type": "stream",
          "name": "stdout",
          "text": [
            "Collecting pyspark\n",
            "  Downloading pyspark-3.2.1.tar.gz (281.4 MB)\n",
            "\u001b[K     |████████████████████████████████| 281.4 MB 42 kB/s \n",
            "\u001b[?25hCollecting py4j==0.10.9.3\n",
            "  Downloading py4j-0.10.9.3-py2.py3-none-any.whl (198 kB)\n",
            "\u001b[K     |████████████████████████████████| 198 kB 75.5 MB/s \n",
            "\u001b[?25hBuilding wheels for collected packages: pyspark\n",
            "  Building wheel for pyspark (setup.py) ... \u001b[?25l\u001b[?25hdone\n",
            "  Created wheel for pyspark: filename=pyspark-3.2.1-py2.py3-none-any.whl size=281853642 sha256=1dad244d832e05baea4f29c07c2e84f35b40a8cae8fafad47415d34e0663d2b7\n",
            "  Stored in directory: /root/.cache/pip/wheels/9f/f5/07/7cd8017084dce4e93e84e92efd1e1d5334db05f2e83bcef74f\n",
            "Successfully built pyspark\n",
            "Installing collected packages: py4j, pyspark\n",
            "Successfully installed py4j-0.10.9.3 pyspark-3.2.1\n"
          ]
        }
      ]
    },
    {
      "cell_type": "code",
      "source": [
        "import pandas as pd\n",
        "import numpy as np\n",
        "from datetime import datetime, date, timedelta\n",
        "import pyspark\n",
        "from pyspark.sql import SparkSession\n",
        "from pyspark.sql import functions as F\n",
        "from pyspark.sql import types as T\n",
        "from pyspark import SparkFiles\n",
        "\n",
        "sc = pyspark.SparkContext.getOrCreate()\n",
        "spark = SparkSession(sc)\n",
        "spark"
      ],
      "metadata": {
        "colab": {
          "base_uri": "https://localhost:8080/",
          "height": 220
        },
        "id": "qHkIqyKMC-CB",
        "outputId": "10a5b714-76e6-4056-fa93-5b1f255de3d8"
      },
      "execution_count": 2,
      "outputs": [
        {
          "output_type": "execute_result",
          "data": {
            "text/plain": [
              "<pyspark.sql.session.SparkSession at 0x7f2b3c823ed0>"
            ],
            "text/html": [
              "\n",
              "            <div>\n",
              "                <p><b>SparkSession - in-memory</b></p>\n",
              "                \n",
              "        <div>\n",
              "            <p><b>SparkContext</b></p>\n",
              "\n",
              "            <p><a href=\"http://d72c55ae7c99:4040\">Spark UI</a></p>\n",
              "\n",
              "            <dl>\n",
              "              <dt>Version</dt>\n",
              "                <dd><code>v3.2.1</code></dd>\n",
              "              <dt>Master</dt>\n",
              "                <dd><code>local[*]</code></dd>\n",
              "              <dt>AppName</dt>\n",
              "                <dd><code>pyspark-shell</code></dd>\n",
              "            </dl>\n",
              "        </div>\n",
              "        \n",
              "            </div>\n",
              "        "
            ]
          },
          "metadata": {},
          "execution_count": 2
        }
      ]
    },
    {
      "cell_type": "code",
      "execution_count": 10,
      "metadata": {
        "id": "ijUc954X941k",
        "colab": {
          "base_uri": "https://localhost:8080/"
        },
        "outputId": "d628e15e-34c1-4fa5-9249-4401a16cef41"
      },
      "outputs": [
        {
          "output_type": "execute_result",
          "data": {
            "text/plain": [
              "['220101',\n",
              " '220108',\n",
              " '220115',\n",
              " '220122',\n",
              " '220129',\n",
              " '220205',\n",
              " '220212',\n",
              " '220219',\n",
              " '220226',\n",
              " '220305',\n",
              " '220312',\n",
              " '220319',\n",
              " '220326',\n",
              " '220402',\n",
              " '220409']"
            ]
          },
          "metadata": {},
          "execution_count": 10
        }
      ],
      "source": [
        "start_date = date(2022, 1, 1)\n",
        "end_date = date(2022, 4, 9)\n",
        "\n",
        "date_range = list(pd.date_range(start_date, end_date, freq='7D').strftime(\"%y%m%d\"))\n",
        "date_range"
      ]
    },
    {
      "cell_type": "code",
      "source": [
        "mta_turnstile_schema = T.StructType([\n",
        "  T.StructField('C/A', T.StringType(), True),\n",
        "  T.StructField('UNIT', T.StringType(), True),\n",
        "  T.StructField('SCP', T.StringType(), True),\n",
        "  T.StructField('STATION', T.StringType(), True),\n",
        "  T.StructField('LINENAME', T.StringType(), True),\n",
        "  T.StructField('DIVISION', T.StringType(), True),\n",
        "  T.StructField('DATE', T.StringType(), True),\n",
        "  T.StructField('TIME', T.StringType(), True),\n",
        "  T.StructField('DESC', T.StringType(), True),\n",
        "  T.StructField('ENTRIES', T.IntegerType(), True),\n",
        "  T.StructField('EXITS', T.FloatType(), True),\n",
        "  ])\n",
        "\n",
        "bigdf = spark.createDataFrame([], mta_turnstile_schema)\n",
        "\n",
        "\n",
        "for date in date_range:\n",
        "  url = 'http://web.mta.info/developers/data/nyct/turnstile/turnstile_{}.txt'.format(date)\n",
        "  spark.sparkContext.addFile(url)\n",
        "  df = spark.read.csv(SparkFiles.get('turnstile_{}.txt'.format(date)), mta_turnstile_schema, header=True)\n",
        "  bigdf = bigdf.union(df)"
      ],
      "metadata": {
        "id": "SIxlJ7AoMgm9"
      },
      "execution_count": 11,
      "outputs": []
    },
    {
      "cell_type": "code",
      "source": [
        "bigdf.take(5)"
      ],
      "metadata": {
        "id": "sStFTxFM5xcS",
        "colab": {
          "base_uri": "https://localhost:8080/"
        },
        "outputId": "1d9a2bb1-553c-40fb-dfea-a34c91ba12f5"
      },
      "execution_count": 28,
      "outputs": [
        {
          "output_type": "execute_result",
          "data": {
            "text/plain": [
              "[Row(C/A='A002', UNIT='R051', SCP='02-00-00', STATION='59 ST', LINENAME='NQR456W', DIVISION='BMT', DATE='12/25/2021', TIME='03:00:00', DESC='REGULAR', ENTRIES=7674633, EXITS=2647624.0),\n",
              " Row(C/A='A002', UNIT='R051', SCP='02-00-00', STATION='59 ST', LINENAME='NQR456W', DIVISION='BMT', DATE='12/25/2021', TIME='07:00:00', DESC='REGULAR', ENTRIES=7674636, EXITS=2647627.0),\n",
              " Row(C/A='A002', UNIT='R051', SCP='02-00-00', STATION='59 ST', LINENAME='NQR456W', DIVISION='BMT', DATE='12/25/2021', TIME='11:00:00', DESC='REGULAR', ENTRIES=7674641, EXITS=2647646.0),\n",
              " Row(C/A='A002', UNIT='R051', SCP='02-00-00', STATION='59 ST', LINENAME='NQR456W', DIVISION='BMT', DATE='12/25/2021', TIME='15:00:00', DESC='REGULAR', ENTRIES=7674654, EXITS=2647662.0),\n",
              " Row(C/A='A002', UNIT='R051', SCP='02-00-00', STATION='59 ST', LINENAME='NQR456W', DIVISION='BMT', DATE='12/25/2021', TIME='19:00:00', DESC='REGULAR', ENTRIES=7674684, EXITS=2647689.0)]"
            ]
          },
          "metadata": {},
          "execution_count": 28
        }
      ]
    },
    {
      "cell_type": "code",
      "source": [
        "bigdf.rdd"
      ],
      "metadata": {
        "colab": {
          "base_uri": "https://localhost:8080/"
        },
        "id": "foLNw63rmI4s",
        "outputId": "02f47e5f-a97a-4304-a0e7-cab64954d5da"
      },
      "execution_count": 31,
      "outputs": [
        {
          "output_type": "execute_result",
          "data": {
            "text/plain": [
              "MapPartitionsRDD[185] at javaToPython at NativeMethodAccessorImpl.java:0"
            ]
          },
          "metadata": {},
          "execution_count": 31
        }
      ]
    },
    {
      "cell_type": "code",
      "source": [
        "stations = bigdf.select('UNIT').distinct()"
      ],
      "metadata": {
        "id": "fuLWgWfS1cJ_"
      },
      "execution_count": 25,
      "outputs": []
    },
    {
      "cell_type": "code",
      "source": [
        "stations.count()"
      ],
      "metadata": {
        "colab": {
          "base_uri": "https://localhost:8080/"
        },
        "id": "tJieY_pZ8O33",
        "outputId": "daef2fb2-1f93-49fb-b507-1a149bb80476"
      },
      "execution_count": 27,
      "outputs": [
        {
          "output_type": "execute_result",
          "data": {
            "text/plain": [
              "469"
            ]
          },
          "metadata": {},
          "execution_count": 27
        }
      ]
    },
    {
      "cell_type": "code",
      "source": [
        "!wget 'http://web.mta.info/developers/resources/nyct/turnstile/Remote-Booth-Station.xls'"
      ],
      "metadata": {
        "id": "llpKBteG1eWN"
      },
      "execution_count": null,
      "outputs": []
    },
    {
      "cell_type": "code",
      "source": [
        "station_key = pd.read_excel('Remote-Booth-Station.xls')"
      ],
      "metadata": {
        "id": "LPr0allv3t0R"
      },
      "execution_count": 3,
      "outputs": []
    },
    {
      "cell_type": "code",
      "source": [
        "station_key.shape"
      ],
      "metadata": {
        "colab": {
          "base_uri": "https://localhost:8080/"
        },
        "id": "f-sdGN9K4SiP",
        "outputId": "7b3ec1f2-2647-4ad0-a991-db5dde7cff88"
      },
      "execution_count": 6,
      "outputs": [
        {
          "output_type": "execute_result",
          "data": {
            "text/plain": [
              "(768, 5)"
            ]
          },
          "metadata": {},
          "execution_count": 6
        }
      ]
    },
    {
      "cell_type": "code",
      "source": [
        "bigdf[bigdf['STATION']=='Jay Str.-Metrotech'].show()"
      ],
      "metadata": {
        "colab": {
          "base_uri": "https://localhost:8080/"
        },
        "id": "jsVpyKqW4XlC",
        "outputId": "f9f54963-3c15-4de5-aa53-6653fc5bed4b"
      },
      "execution_count": 14,
      "outputs": [
        {
          "output_type": "stream",
          "name": "stdout",
          "text": [
            "+---+----+---+-------+--------+--------+----+----+----+-------+-----+\n",
            "|C/A|UNIT|SCP|STATION|LINENAME|DIVISION|DATE|TIME|DESC|ENTRIES|EXITS|\n",
            "+---+----+---+-------+--------+--------+----+----+----+-------+-----+\n",
            "+---+----+---+-------+--------+--------+----+----+----+-------+-----+\n",
            "\n"
          ]
        }
      ]
    },
    {
      "cell_type": "code",
      "source": [
        ""
      ],
      "metadata": {
        "id": "IefF8iKI7GmB"
      },
      "execution_count": null,
      "outputs": []
    }
  ]
}