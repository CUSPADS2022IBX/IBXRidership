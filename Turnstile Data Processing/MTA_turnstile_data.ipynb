{
  "nbformat": 4,
  "nbformat_minor": 0,
  "metadata": {
    "colab": {
      "name": "MTA_turnstile_data.ipynb",
      "provenance": [],
      "collapsed_sections": [],
      "authorship_tag": "ABX9TyMyO0nd8z6sRleGSii5Ddrv",
      "include_colab_link": true
    },
    "kernelspec": {
      "name": "python3",
      "display_name": "Python 3"
    },
    "language_info": {
      "name": "python"
    }
  },
  "cells": [
    {
      "cell_type": "markdown",
      "metadata": {
        "id": "view-in-github",
        "colab_type": "text"
      },
      "source": [
        "<a href=\"https://colab.research.google.com/github/CUSPADS2022IBX/IBXRidership/blob/main/Turnstile%20Data%20Processing/MTA_turnstile_data.ipynb\" target=\"_parent\"><img src=\"https://colab.research.google.com/assets/colab-badge.svg\" alt=\"Open In Colab\"/></a>"
      ]
    },
    {
      "cell_type": "markdown",
      "source": [
        "Data Source: http://web.mta.info/developers/turnstile.html\n",
        "\n",
        "Example:\n",
        "\n",
        "The data below shows the entry/exit register values for one turnstile at control area (A002) from 09/27/14 at 00:00 hours to 09/29/14 at 00:00 hours\n",
        "\n",
        "Schema Example:\n",
        "C/A,UNIT,SCP,STATION,LINENAME,DIVISION,DATE,TIME,DESC,ENTRIES,EXITS\n",
        "A002,R051,02-00-00,LEXINGTON AVE,456NQR,BMT,09-27-14,00:00:00,REGULAR,0004800073,0001629137,\n",
        "\n",
        "Data cleaning and processing resources used:\n",
        "\n",
        "1)https://medium.com/qri-io/taming-the-mtas-unruly-turnstile-data-c945f5f96ba0\n",
        "\n",
        "2)https://toddwschneider.com/dashboards/nyc-subway-turnstiles/#notes\n"
      ],
      "metadata": {
        "id": "8HzqGRmo_BsS"
      }
    },
    {
      "cell_type": "code",
      "source": [
        "!pip install pyspark\n",
        "!pip install --upgrade xlrd"
      ],
      "metadata": {
        "colab": {
          "base_uri": "https://localhost:8080/"
        },
        "id": "ZalDTGmcDQmE",
        "outputId": "e017da6b-fe61-4395-fdc6-dd9852b27970"
      },
      "execution_count": 72,
      "outputs": [
        {
          "output_type": "stream",
          "name": "stdout",
          "text": [
            "Requirement already satisfied: pyspark in /usr/local/lib/python3.7/dist-packages (3.2.1)\n",
            "Requirement already satisfied: py4j==0.10.9.3 in /usr/local/lib/python3.7/dist-packages (from pyspark) (0.10.9.3)\n",
            "Requirement already satisfied: xlrd in /usr/local/lib/python3.7/dist-packages (2.0.1)\n"
          ]
        }
      ]
    },
    {
      "cell_type": "code",
      "execution_count": 124,
      "metadata": {
        "id": "ijUc954X941k"
      },
      "outputs": [],
      "source": [
        "import pandas as pd\n",
        "import numpy as np\n",
        "from datetime import datetime, date, timedelta\n",
        "import pyspark\n",
        "from pyspark.sql import SparkSession\n",
        "from pyspark.sql import functions as F\n",
        "from pyspark.sql import types as T\n",
        "from pyspark.sql.window import Window\n",
        "from pyspark import SparkFiles\n",
        "\n",
        "sc = pyspark.SparkContext.getOrCreate()\n",
        "spark = SparkSession(sc)\n",
        "\n",
        "#The start date has to match the date of the first URL in the MTA turnstile data, otherwise the URL pull will not work. Data is reported every Saturday.\n",
        "#NOTE: On November 20, 2021 MTA changed their normal turnstile count periods from [12AM, 4AM, 8AM, 12PM, 4PM, 8PM] to [3AM, 7AM, 11AM, 3PM, 7PM, 11PM]\n",
        "start_date = date(2022,4, 2)\n",
        "end_date = date(2022, 4, 23)\n",
        "\n",
        "#Create a list of dates for the date range requested\n",
        "date_range = list(pd.date_range(start_date, end_date, freq='7D').strftime(\"%y%m%d\"))\n",
        "\n",
        "#MTA tunrstile schema, 'EXITS' kepts giving nulls when imported as IntegerType\n",
        "mta_turnstile_schema = T.StructType([\n",
        "  T.StructField('C/A', T.StringType(), True),\n",
        "  T.StructField('UNIT', T.StringType(), True),\n",
        "  T.StructField('SCP', T.StringType(), True),\n",
        "  T.StructField('STATION', T.StringType(), True),\n",
        "  T.StructField('LINENAME', T.StringType(), True),\n",
        "  T.StructField('DIVISION', T.StringType(), True),\n",
        "  T.StructField('DATE', T.StringType(), True),\n",
        "  T.StructField('TIME', T.StringType(), True),\n",
        "  T.StructField('DESC', T.StringType(), True),\n",
        "  T.StructField('ENTRIES', T.IntegerType(), True),\n",
        "  T.StructField('EXITS', T.FloatType(), True),\n",
        "  ])\n",
        "\n",
        "#Create empty dataframe with previous scheme\n",
        "bigdf = spark.createDataFrame([], mta_turnstile_schema)\n",
        "\n",
        "#Download each .txt file on to Spark job node and load into Spark DataFrame and union onto Empty DataFrame we created\n",
        "for date_string in date_range:\n",
        "  url = 'http://web.mta.info/developers/data/nyct/turnstile/turnstile_{}.txt'.format(date_string)\n",
        "  spark.sparkContext.addFile(url)\n",
        "  df = spark.read.csv(SparkFiles.get('turnstile_{}.txt'.format(date_string)), mta_turnstile_schema, header=True)\n",
        "  bigdf = bigdf.union(df)\n",
        "\n",
        "#Change 'EXITS' column data type to IntegerType and concate 'DATE' and 'TIME' columns and cast to datetime\n",
        "bigdf = bigdf.withColumn('EXITS',bigdf.EXITS.cast(T.IntegerType()))\\\n",
        "             .withColumn('timestamp',\n",
        "                         F.unix_timestamp(F.concat(bigdf.DATE,bigdf.TIME),'MM/dd/yyyyHH:mm:ss').cast('timestamp'))\n",
        "\n",
        "#Create columns to represent unique observation id, and unique turnstile id for data processing             \n",
        "bigdf = bigdf.withColumn('unit_division', F.concat(bigdf.UNIT,bigdf.DIVISION))\\\n",
        "             .withColumn('unit_id', F.concat(bigdf['C/A'],bigdf.UNIT,bigdf.SCP))\n",
        "\n",
        "#Use utility function window to partition by turnstile and order by timestamp\n",
        "window = Window.partitionBy('unit_id').orderBy('timestamp')\n",
        "\n",
        "#Use previous window to find the 'net_entries' and 'net_exits'. Remove all entries that are above 10000, because\n",
        "#turnstiles act as odometers, and when turnstile reaches end it resets creating a large value. 10000 is a good cutoff.\n",
        "#Also drop first rows of each turnstile data, because .lag function creates None for first row.\n",
        "bigdf = bigdf.withColumn('net_entries', F.abs(F.col('ENTRIES') - F.lag(F.col('ENTRIES'), 1).over(window)))\\\n",
        "             .withColumn('net_exits', F.abs(F.col('EXITS') - F.lag(F.col('EXITS'), 1).over(window)))\\\n",
        "             .where((F.col('net_entries')<1000000) |\\\n",
        "                    (F.col('net_exits')<1000000) |\\\n",
        "                    (F.col('net_entries')!=None) |\\\n",
        "                    (F.col('net_exits')!=None))\n",
        "             \n",
        "#Aggregate on complex_id, weekend/weekday statu, Morning, Evening, Overnight\n",
        "entry_exit_df = bigdf.groupBy('timestamp','unit_division').sum('net_entries','net_exits').withColumnRenamed('sum(net_entries)', 'entries')\\\n",
        "                                                                                         .withColumnRenamed('sum(net_exits)', 'exits')\n",
        "\n",
        "#Create new column for 'DOW' (day of week) to aggregate by weekends and weekdays.\n",
        "entry_exit_df = entry_exit_df.withColumn('DOW', F.when((F.dayofweek(F.col('timestamp'))<7) & (F.dayofweek(F.col('timestamp'))>1),'weekday')\\\n",
        "                                         .when((F.dayofweek(F.col('timestamp'))==7) | (F.dayofweek(F.col('timestamp'))==1),'weekend'))\n",
        "\n",
        "#Creates new column 'TOD' (Time of Day)\n",
        "#NOTE: If you want to analyze data before 11/20/2021 you will have to agregate at different hour intervals\n",
        "entry_exit_df = entry_exit_df.withColumn('TOD', F.when((F.date_format(F.col('timestamp'), 'HH:mm:ss')> '23:00:00') | (F.date_format(F.col('timestamp'), 'HH:mm:ss')<= '07:00:00'), 'overnight')\\\n",
        "                                         .when((F.date_format(F.col('timestamp'), 'HH:mm:ss')> '07:00:00') & (F.date_format(F.col('timestamp'), 'HH:mm:ss')<= '15:00:00'), 'morning')\\\n",
        "                                         .when((F.date_format(F.col('timestamp'), 'HH:mm:ss')> '11:00:00') & (F.date_format(F.col('timestamp'), 'HH:mm:ss')<= '23:00:00'), 'evening'))\n",
        "\n",
        "#Upload Remote_complex_lookup table and create key table for unit_division join\n",
        "#Manually checked if complex_id was correct (google sheets for reference: https://docs.google.com/spreadsheets/d/1kMmoqzq3uWM5J8Esrzi1DPEBrdezzVtQ1Rv5ZAIsEfk/edit?usp=sharing)\n",
        "remote_complex_url = 'https://raw.githubusercontent.com/qri-io/data-stories-scripts/master/nyc-turnstile-counts/lookup/remote_complex_lookup.csv'\n",
        "remote_complex = pd.read_csv(remote_complex_url).sort_values('station')\n",
        "remote_complex['complex_id'] = remote_complex['complex_id'].astype('Int64').astype('str')\n",
        "remote_complex['unit_division'] = remote_complex['remote ']+remote_complex['division']\n",
        "remote_complex_spark = spark.createDataFrame(remote_complex)\n",
        "\n",
        "#join to the entry_exit_df to create unique complex_Id column to aggregate on\n",
        "entry_exit_df = entry_exit_df.join(remote_complex_spark, entry_exit_df.unit_division==remote_complex_spark.unit_division, 'left')\\\n",
        "                             .select('entries','exits','DOW','TOD','complex_id').dropna()"
      ]
    },
    {
      "cell_type": "code",
      "source": [
        "entry_exit_df.show(50)"
      ],
      "metadata": {
        "id": "-im_oj9dHYD2",
        "outputId": "56687e3b-8d8b-4591-b165-ff7937a9c4e7",
        "colab": {
          "base_uri": "https://localhost:8080/"
        }
      },
      "execution_count": 125,
      "outputs": [
        {
          "output_type": "stream",
          "name": "stdout",
          "text": [
            "+-------+-----+-------+---------+----------+\n",
            "|entries|exits|    DOW|      TOD|complex_id|\n",
            "+-------+-----+-------+---------+----------+\n",
            "|   2446| 1034|weekday|  evening|       613|\n",
            "|   3252| 1524|weekday|  evening|         8|\n",
            "|   3252| 1524|weekday|  evening|         8|\n",
            "|   1740| 5926|weekday|  morning|         9|\n",
            "|   1740| 5926|weekday|  morning|         9|\n",
            "|    218| 1838|weekday|  morning|        10|\n",
            "|    218| 1838|weekday|  morning|        10|\n",
            "|    218| 1838|weekday|  morning|        10|\n",
            "|    218| 1838|weekday|  morning|        10|\n",
            "|   1979| 3230|weekday|  evening|       611|\n",
            "|    475|  806|weekend|overnight|       607|\n",
            "|    546|  433|weekend|overnight|       607|\n",
            "|     53|  492|weekend|  morning|       623|\n",
            "|     53|  492|weekend|  morning|       623|\n",
            "|    579|  371|weekday|overnight|       623|\n",
            "|    579|  371|weekday|overnight|       623|\n",
            "|   1033| 2193|weekday|  morning|       635|\n",
            "|   1033| 2193|weekday|  morning|       635|\n",
            "|    311|  663|weekend|  morning|       625|\n",
            "|    350|  461|weekend|overnight|       625|\n",
            "|    401|  633|weekday|  evening|       103|\n",
            "|    115|  228|weekend|overnight|       103|\n",
            "|    453|  579|weekday|  evening|       103|\n",
            "|   2396|  993|weekday|  evening|       622|\n",
            "|   2396|  993|weekday|  evening|       622|\n",
            "|     10|   23|weekday|overnight|       107|\n",
            "|     10|   23|weekday|overnight|       107|\n",
            "|     10|   23|weekday|overnight|       107|\n",
            "|    125|  159|weekday|  morning|       141|\n",
            "|      8|   28|weekday|overnight|       626|\n",
            "|     94|  132|weekend|  morning|        43|\n",
            "|   1575| 2544|weekday|  evening|        44|\n",
            "|   1575| 2544|weekday|  evening|        44|\n",
            "|    581| 2456|weekday|  evening|        47|\n",
            "|    440|  154|weekday|  morning|        49|\n",
            "|   3292| 2097|weekday|  morning|        51|\n",
            "|   3292| 2097|weekday|  morning|        51|\n",
            "|   3292| 2097|weekday|  morning|        51|\n",
            "|    597|  518|weekday|  evening|        52|\n",
            "|   1326| 1317|weekday|  morning|        54|\n",
            "|   1326| 1317|weekday|  morning|        54|\n",
            "|    374|  240|weekday|  evening|        56|\n",
            "|    374|  240|weekday|  evening|        56|\n",
            "|     95|  103|weekend|overnight|        56|\n",
            "|     95|  103|weekend|overnight|        56|\n",
            "|    415|  183|weekday|  evening|        56|\n",
            "|    415|  183|weekday|  evening|        56|\n",
            "|     79|   84|weekday|overnight|        56|\n",
            "|     79|   84|weekday|overnight|        56|\n",
            "|    154|  344|weekend|overnight|       617|\n",
            "+-------+-----+-------+---------+----------+\n",
            "only showing top 50 rows\n",
            "\n"
          ]
        }
      ]
    },
    {
      "cell_type": "code",
      "source": [
        "#Aggregate on complex_id, weekend/weekday statu, Morning, Evening, Overnight\n",
        "final_agg_df = entry_exit_df.groupBy('DOW','TOD','complex_id').mean('entries','exits').sort(F.col('complex_ID'))\n",
        "\n",
        "weekend_morning = final_agg_df.filter((final_agg_df.DOW == 'weekend') & (final_agg_df.TOD == 'morning')).toPandas()\n",
        "weekend_evening = final_agg_df.filter((final_agg_df.DOW == 'weekend') & (final_agg_df.TOD == 'evening')).toPandas()\n",
        "weekend_overnight = final_agg_df.filter((final_agg_df.DOW == 'weekend') & (final_agg_df.TOD == 'overnight')).toPandas()\n",
        "weekday_morning = final_agg_df.filter((final_agg_df.DOW == 'weekday') & (final_agg_df.TOD == 'morning')).toPandas()\n",
        "weekday_evening = final_agg_df.filter((final_agg_df.DOW == 'weekday') & (final_agg_df.TOD == 'evening')).toPandas()\n",
        "weekday_overnight = final_agg_df.filter((final_agg_df.DOW == 'weekday') & (final_agg_df.TOD == 'overnight')).toPandas()"
      ],
      "metadata": {
        "id": "6rJGm7tSGCBi"
      },
      "execution_count": 129,
      "outputs": []
    },
    {
      "cell_type": "code",
      "source": [
        "weekend_morning"
      ],
      "metadata": {
        "id": "qCWoBoVcRD_R",
        "outputId": "a1da94b0-dc60-4a1b-b1e0-38ae18819099",
        "colab": {
          "base_uri": "https://localhost:8080/",
          "height": 423
        }
      },
      "execution_count": 130,
      "outputs": [
        {
          "output_type": "execute_result",
          "data": {
            "text/plain": [
              "         DOW      TOD complex_id  avg(entries)   avg(exits)\n",
              "0    weekend  morning          1    605.687500   438.312500\n",
              "1    weekend  morning         10    641.250000  1170.625000\n",
              "2    weekend  morning        100    107.250000   152.312500\n",
              "3    weekend  morning        101    343.750000   721.937500\n",
              "4    weekend  morning        103     98.187500   406.687500\n",
              "..       ...      ...        ...           ...          ...\n",
              "422  weekend  morning         96    324.312500   136.062500\n",
              "423  weekend  morning         97    500.062500   392.250000\n",
              "424  weekend  morning         98    329.250000   350.687500\n",
              "425  weekend  morning         99    231.312500   280.812500\n",
              "426  weekend  morning       <NA>    221.379598    78.853163\n",
              "\n",
              "[427 rows x 5 columns]"
            ],
            "text/html": [
              "\n",
              "  <div id=\"df-d380913c-975c-48ed-80d4-1cea82d3f9a6\">\n",
              "    <div class=\"colab-df-container\">\n",
              "      <div>\n",
              "<style scoped>\n",
              "    .dataframe tbody tr th:only-of-type {\n",
              "        vertical-align: middle;\n",
              "    }\n",
              "\n",
              "    .dataframe tbody tr th {\n",
              "        vertical-align: top;\n",
              "    }\n",
              "\n",
              "    .dataframe thead th {\n",
              "        text-align: right;\n",
              "    }\n",
              "</style>\n",
              "<table border=\"1\" class=\"dataframe\">\n",
              "  <thead>\n",
              "    <tr style=\"text-align: right;\">\n",
              "      <th></th>\n",
              "      <th>DOW</th>\n",
              "      <th>TOD</th>\n",
              "      <th>complex_id</th>\n",
              "      <th>avg(entries)</th>\n",
              "      <th>avg(exits)</th>\n",
              "    </tr>\n",
              "  </thead>\n",
              "  <tbody>\n",
              "    <tr>\n",
              "      <th>0</th>\n",
              "      <td>weekend</td>\n",
              "      <td>morning</td>\n",
              "      <td>1</td>\n",
              "      <td>605.687500</td>\n",
              "      <td>438.312500</td>\n",
              "    </tr>\n",
              "    <tr>\n",
              "      <th>1</th>\n",
              "      <td>weekend</td>\n",
              "      <td>morning</td>\n",
              "      <td>10</td>\n",
              "      <td>641.250000</td>\n",
              "      <td>1170.625000</td>\n",
              "    </tr>\n",
              "    <tr>\n",
              "      <th>2</th>\n",
              "      <td>weekend</td>\n",
              "      <td>morning</td>\n",
              "      <td>100</td>\n",
              "      <td>107.250000</td>\n",
              "      <td>152.312500</td>\n",
              "    </tr>\n",
              "    <tr>\n",
              "      <th>3</th>\n",
              "      <td>weekend</td>\n",
              "      <td>morning</td>\n",
              "      <td>101</td>\n",
              "      <td>343.750000</td>\n",
              "      <td>721.937500</td>\n",
              "    </tr>\n",
              "    <tr>\n",
              "      <th>4</th>\n",
              "      <td>weekend</td>\n",
              "      <td>morning</td>\n",
              "      <td>103</td>\n",
              "      <td>98.187500</td>\n",
              "      <td>406.687500</td>\n",
              "    </tr>\n",
              "    <tr>\n",
              "      <th>...</th>\n",
              "      <td>...</td>\n",
              "      <td>...</td>\n",
              "      <td>...</td>\n",
              "      <td>...</td>\n",
              "      <td>...</td>\n",
              "    </tr>\n",
              "    <tr>\n",
              "      <th>422</th>\n",
              "      <td>weekend</td>\n",
              "      <td>morning</td>\n",
              "      <td>96</td>\n",
              "      <td>324.312500</td>\n",
              "      <td>136.062500</td>\n",
              "    </tr>\n",
              "    <tr>\n",
              "      <th>423</th>\n",
              "      <td>weekend</td>\n",
              "      <td>morning</td>\n",
              "      <td>97</td>\n",
              "      <td>500.062500</td>\n",
              "      <td>392.250000</td>\n",
              "    </tr>\n",
              "    <tr>\n",
              "      <th>424</th>\n",
              "      <td>weekend</td>\n",
              "      <td>morning</td>\n",
              "      <td>98</td>\n",
              "      <td>329.250000</td>\n",
              "      <td>350.687500</td>\n",
              "    </tr>\n",
              "    <tr>\n",
              "      <th>425</th>\n",
              "      <td>weekend</td>\n",
              "      <td>morning</td>\n",
              "      <td>99</td>\n",
              "      <td>231.312500</td>\n",
              "      <td>280.812500</td>\n",
              "    </tr>\n",
              "    <tr>\n",
              "      <th>426</th>\n",
              "      <td>weekend</td>\n",
              "      <td>morning</td>\n",
              "      <td>&lt;NA&gt;</td>\n",
              "      <td>221.379598</td>\n",
              "      <td>78.853163</td>\n",
              "    </tr>\n",
              "  </tbody>\n",
              "</table>\n",
              "<p>427 rows × 5 columns</p>\n",
              "</div>\n",
              "      <button class=\"colab-df-convert\" onclick=\"convertToInteractive('df-d380913c-975c-48ed-80d4-1cea82d3f9a6')\"\n",
              "              title=\"Convert this dataframe to an interactive table.\"\n",
              "              style=\"display:none;\">\n",
              "        \n",
              "  <svg xmlns=\"http://www.w3.org/2000/svg\" height=\"24px\"viewBox=\"0 0 24 24\"\n",
              "       width=\"24px\">\n",
              "    <path d=\"M0 0h24v24H0V0z\" fill=\"none\"/>\n",
              "    <path d=\"M18.56 5.44l.94 2.06.94-2.06 2.06-.94-2.06-.94-.94-2.06-.94 2.06-2.06.94zm-11 1L8.5 8.5l.94-2.06 2.06-.94-2.06-.94L8.5 2.5l-.94 2.06-2.06.94zm10 10l.94 2.06.94-2.06 2.06-.94-2.06-.94-.94-2.06-.94 2.06-2.06.94z\"/><path d=\"M17.41 7.96l-1.37-1.37c-.4-.4-.92-.59-1.43-.59-.52 0-1.04.2-1.43.59L10.3 9.45l-7.72 7.72c-.78.78-.78 2.05 0 2.83L4 21.41c.39.39.9.59 1.41.59.51 0 1.02-.2 1.41-.59l7.78-7.78 2.81-2.81c.8-.78.8-2.07 0-2.86zM5.41 20L4 18.59l7.72-7.72 1.47 1.35L5.41 20z\"/>\n",
              "  </svg>\n",
              "      </button>\n",
              "      \n",
              "  <style>\n",
              "    .colab-df-container {\n",
              "      display:flex;\n",
              "      flex-wrap:wrap;\n",
              "      gap: 12px;\n",
              "    }\n",
              "\n",
              "    .colab-df-convert {\n",
              "      background-color: #E8F0FE;\n",
              "      border: none;\n",
              "      border-radius: 50%;\n",
              "      cursor: pointer;\n",
              "      display: none;\n",
              "      fill: #1967D2;\n",
              "      height: 32px;\n",
              "      padding: 0 0 0 0;\n",
              "      width: 32px;\n",
              "    }\n",
              "\n",
              "    .colab-df-convert:hover {\n",
              "      background-color: #E2EBFA;\n",
              "      box-shadow: 0px 1px 2px rgba(60, 64, 67, 0.3), 0px 1px 3px 1px rgba(60, 64, 67, 0.15);\n",
              "      fill: #174EA6;\n",
              "    }\n",
              "\n",
              "    [theme=dark] .colab-df-convert {\n",
              "      background-color: #3B4455;\n",
              "      fill: #D2E3FC;\n",
              "    }\n",
              "\n",
              "    [theme=dark] .colab-df-convert:hover {\n",
              "      background-color: #434B5C;\n",
              "      box-shadow: 0px 1px 3px 1px rgba(0, 0, 0, 0.15);\n",
              "      filter: drop-shadow(0px 1px 2px rgba(0, 0, 0, 0.3));\n",
              "      fill: #FFFFFF;\n",
              "    }\n",
              "  </style>\n",
              "\n",
              "      <script>\n",
              "        const buttonEl =\n",
              "          document.querySelector('#df-d380913c-975c-48ed-80d4-1cea82d3f9a6 button.colab-df-convert');\n",
              "        buttonEl.style.display =\n",
              "          google.colab.kernel.accessAllowed ? 'block' : 'none';\n",
              "\n",
              "        async function convertToInteractive(key) {\n",
              "          const element = document.querySelector('#df-d380913c-975c-48ed-80d4-1cea82d3f9a6');\n",
              "          const dataTable =\n",
              "            await google.colab.kernel.invokeFunction('convertToInteractive',\n",
              "                                                     [key], {});\n",
              "          if (!dataTable) return;\n",
              "\n",
              "          const docLinkHtml = 'Like what you see? Visit the ' +\n",
              "            '<a target=\"_blank\" href=https://colab.research.google.com/notebooks/data_table.ipynb>data table notebook</a>'\n",
              "            + ' to learn more about interactive tables.';\n",
              "          element.innerHTML = '';\n",
              "          dataTable['output_type'] = 'display_data';\n",
              "          await google.colab.output.renderOutput(dataTable, element);\n",
              "          const docLink = document.createElement('div');\n",
              "          docLink.innerHTML = docLinkHtml;\n",
              "          element.appendChild(docLink);\n",
              "        }\n",
              "      </script>\n",
              "    </div>\n",
              "  </div>\n",
              "  "
            ]
          },
          "metadata": {},
          "execution_count": 130
        }
      ]
    },
    {
      "cell_type": "code",
      "source": [
        "weekday_morning['avg(entries)'].sum() + weekday_evening['avg(entries)'].sum() + weekday_overnight['avg(entries)'].sum()"
      ],
      "metadata": {
        "id": "IJd-nCFp-CsW",
        "outputId": "2c304ac7-b811-4e74-e970-03b4f76c0040",
        "colab": {
          "base_uri": "https://localhost:8080/"
        }
      },
      "execution_count": 132,
      "outputs": [
        {
          "output_type": "execute_result",
          "data": {
            "text/plain": [
              "3199313.0987147233"
            ]
          },
          "metadata": {},
          "execution_count": 132
        }
      ]
    },
    {
      "cell_type": "code",
      "source": [
        "weekend_morning['avg(net_entries)'].sum() + weekend_evening['avg(net_entries)'].sum() + weekend_overnight['avg(net_entries)'].sum()"
      ],
      "metadata": {
        "id": "Zi-vg9TZDI_W",
        "outputId": "04d18595-6e1d-4b1f-fd78-7c2560d5dfb8",
        "colab": {
          "base_uri": "https://localhost:8080/"
        }
      },
      "execution_count": 87,
      "outputs": [
        {
          "output_type": "execute_result",
          "data": {
            "text/plain": [
              "1054223.477223908"
            ]
          },
          "metadata": {},
          "execution_count": 87
        }
      ]
    },
    {
      "cell_type": "code",
      "source": [
        "weekend_evening.loc[:425].to_csv('weekend_evening.csv')\n",
        "weekend_morning.loc[:425].to_csv('weekend_morning.csv')\n",
        "weekend_overnight.loc[:425].to_csv('weekend_overnight.csv')\n",
        "weekday_morning.loc[:425].to_csv('weekday_morning.csv')\n",
        "weekday_evening.loc[:425].to_csv('weekday_evening.csv')\n",
        "weekday_orvernight.loc[:425].to_csv('weekday_overnight.csv')"
      ],
      "metadata": {
        "id": "gnQdkpiz72bf"
      },
      "execution_count": 133,
      "outputs": []
    },
    {
      "cell_type": "code",
      "source": [
        "turnstile_stations = list(bigdf.select(['STATION']).distinct().sort(F.col('STATION')).toPandas()['STATION'])\n",
        "turnstile_stations"
      ],
      "metadata": {
        "id": "SkZbk-5Ysxbf"
      },
      "execution_count": null,
      "outputs": []
    },
    {
      "cell_type": "code",
      "source": [
        "turnstile_station_unit= bigdf.select(['STATION', 'UNIT', 'DIVISION']).distinct().sort(F.col('STATION')).toPandas()\n",
        "turnstile_station_unit.to_csv('turnstile_stations.csv')"
      ],
      "metadata": {
        "id": "EQIWjD6jL1yx"
      },
      "execution_count": null,
      "outputs": []
    },
    {
      "cell_type": "code",
      "source": [
        "stations_url = 'http://web.mta.info/developers/data/nyct/subway/Stations.csv'\n",
        "\n",
        "stations = pd.read_csv(stations_url).sort_values('Stop Name')\n",
        "\n",
        "#print(stations.groupby(['Complex ID','Stop Name','GTFS Stop ID','Division']).size().reset_index().rename(columns={0:'count'}))\n",
        "stations['Stop Name'] =  stations['Stop Name'].str.upper()\n",
        "#stations['Complex ID', 'GTFS Stop ID','Stop Name'].value_counts()\n",
        "\n",
        "stations.to_csv('stations_list.csv')"
      ],
      "metadata": {
        "colab": {
          "base_uri": "https://localhost:8080/"
        },
        "id": "IefF8iKI7GmB",
        "outputId": "f0fb8203-61f5-4a64-986d-5191a73392ac"
      },
      "execution_count": null,
      "outputs": [
        {
          "output_type": "stream",
          "name": "stdout",
          "text": [
            "     Complex ID                 Stop Name GTFS Stop ID Division  count\n",
            "0             1      Astoria-Ditmars Blvd          R01      BMT      1\n",
            "1             2              Astoria Blvd          R03      BMT      1\n",
            "2             3                     30 Av          R04      BMT      1\n",
            "3             4                  Broadway          R05      BMT      1\n",
            "4             5                     36 Av          R06      BMT      1\n",
            "..          ...                       ...          ...      ...    ...\n",
            "491         630        Myrtle-Wyckoff Avs          M08      BMT      1\n",
            "492         635               South Ferry          142      IRT      1\n",
            "493         635  Whitehall St-South Ferry          R27      BMT      1\n",
            "494         636          Jay St-MetroTech          A41      IND      1\n",
            "495         636          Jay St-MetroTech          R29      BMT      1\n",
            "\n",
            "[496 rows x 5 columns]\n"
          ]
        }
      ]
    },
    {
      "cell_type": "code",
      "source": [
        "stations_list = stations.groupby(['Complex ID','Stop Name','GTFS Stop ID', 'Division']).size().reset_index().rename(columns={0:'count'})\n",
        "stations_list.to_csv('stations_list.csv')"
      ],
      "metadata": {
        "id": "byHTmWPWPXnq"
      },
      "execution_count": null,
      "outputs": []
    },
    {
      "cell_type": "code",
      "source": [
        "stop_name = list(stations[['Stop Name','GTFS Stop ID','Complex ID']].unique())\n",
        "stop_name"
      ],
      "metadata": {
        "id": "u57TZtKIMqGP"
      },
      "execution_count": null,
      "outputs": []
    },
    {
      "cell_type": "code",
      "source": [
        "turnstile_key_url = 'http://web.mta.info/developers/resources/nyct/turnstile/Remote-Booth-Station.xls'\n",
        "\n",
        "turnstile_key = pd.read_excel(turnstile_key_url)\n",
        "pd.set_option('display.max_rows', turnstile_key.shape[0]+1)\n",
        "\n",
        "turnstile_key.head()\n",
        "print(turnstile_key.groupby(['Remote','Station']).size().reset_index().rename(columns={0:'count'}))"
      ],
      "metadata": {
        "id": "tnzU1Q9PhQFo"
      },
      "execution_count": null,
      "outputs": []
    },
    {
      "cell_type": "code",
      "source": [
        "\n",
        "remote_complex_spark\n",
        "#len(remote_complex['station'].unique())\n",
        "#station_list = list(remote_complex['station'].unique())\n",
        "#print(remote_complex.groupby(['complex_id','station']).size().reset_index().rename(columns={0:'count'}))"
      ],
      "metadata": {
        "colab": {
          "base_uri": "https://localhost:8080/"
        },
        "id": "Zx762D1x55UC",
        "outputId": "b97332ea-2c8b-49ad-a0de-6383ad0bd509"
      },
      "execution_count": null,
      "outputs": [
        {
          "output_type": "execute_result",
          "data": {
            "text/plain": [
              "DataFrame[remote : string, booth: string, complex_id: string, station: string, line_name: string, division: string, unit_division: string]"
            ]
          },
          "metadata": {},
          "execution_count": 33
        }
      ]
    },
    {
      "cell_type": "code",
      "source": [
        ""
      ],
      "metadata": {
        "id": "Px_Z86ZEQhPb"
      },
      "execution_count": null,
      "outputs": []
    }
  ]
}