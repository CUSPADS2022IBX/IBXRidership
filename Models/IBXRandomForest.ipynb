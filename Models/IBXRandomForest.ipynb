{
  "cells": [
    {
      "cell_type": "markdown",
      "metadata": {
        "colab_type": "text",
        "id": "view-in-github"
      },
      "source": [
        "<a href=\"https://colab.research.google.com/github/CUSPADS2022IBX/IBXRidership/blob/main/Models/IBXRandomForest.ipynb\" target=\"_parent\"><img src=\"https://colab.research.google.com/assets/colab-badge.svg\" alt=\"Open In Colab\"/></a>"
      ]
    },
    {
      "cell_type": "markdown",
      "metadata": {
        "id": "dPFWXd5GwaLe"
      },
      "source": [
        "### Random Forest"
      ]
    },
    {
      "cell_type": "code",
      "execution_count": 1,
      "metadata": {
        "id": "HyjfcdnWwxfY"
      },
      "outputs": [],
      "source": [
        "import numpy as np\n",
        "import pandas as pd\n",
        "from matplotlib import pyplot as plt\n",
        "import seaborn                   #for plotting graphs\n",
        "import plotly.graph_objects as go #for plotting graphs\n",
        "from scipy.cluster.hierarchy import dendrogram, linkage\n",
        "from sklearn.cluster import KMeans\n",
        "from sklearn import preprocessing\n",
        "from sklearn.decomposition import PCA\n",
        "from sklearn import linear_model\n",
        "from sklearn import preprocessing\n",
        "from sklearn.mixture import GaussianMixture\n"
      ]
    },
    {
      "cell_type": "code",
      "execution_count": 2,
      "metadata": {
        "id": "x0JzdaD7xPlK"
      },
      "outputs": [],
      "source": [
        "from sklearn.model_selection import train_test_split\n",
        "from sklearn.ensemble import RandomForestRegressor\n",
        "from sklearn.model_selection import GridSearchCV\n",
        "from sklearn.metrics import roc_auc_score"
      ]
    },
    {
      "cell_type": "code",
      "execution_count": 3,
      "metadata": {
        "id": "Ta0WJnNdqnJ_"
      },
      "outputs": [],
      "source": [
        "#read valuyes \n",
        "mg_noIBX_abs = pd.read_csv('https://raw.githubusercontent.com/CUSPADS2022IBX/IBXRidership/main/mg_noIBX_abs.csv')\n",
        "mg_noIBX_log = pd.read_csv('https://raw.githubusercontent.com/CUSPADS2022IBX/IBXRidership/main/mg_noIBX_log.csv')\n",
        "mg_noIBX_norm = pd.read_csv('https://raw.githubusercontent.com/CUSPADS2022IBX/IBXRidership/main/mg_noIBX_norm.csv')"
      ]
    },
    {
      "cell_type": "code",
      "execution_count": 4,
      "metadata": {
        "id": "s6SUBcvTBoK0"
      },
      "outputs": [],
      "source": [
        "#fill NaNs in absolute column with 0s \n",
        "mg_noIBX_abs = mg_noIBX_abs.fillna(0)\n",
        "mg_noIBX_norm = mg_noIBX_norm.fillna(0)\n",
        "mg_noIBX_log = mg_noIBX_log.fillna(0)\n",
        "#np.nan_to_num\n",
        "mg_noIBX_log = mg_noIBX_log.replace([np.inf, -np.inf], 0)\n"
      ]
    },
    {
      "cell_type": "code",
      "execution_count": 5,
      "metadata": {
        "colab": {
          "base_uri": "https://localhost:8080/",
          "height": 346
        },
        "id": "-uBKEPlRziav",
        "outputId": "620952c9-be95-4548-9106-2dc66d32515a"
      },
      "outputs": [
        {
          "data": {
            "text/html": [
              "<div>\n",
              "<style scoped>\n",
              "    .dataframe tbody tr th:only-of-type {\n",
              "        vertical-align: middle;\n",
              "    }\n",
              "\n",
              "    .dataframe tbody tr th {\n",
              "        vertical-align: top;\n",
              "    }\n",
              "\n",
              "    .dataframe thead th {\n",
              "        text-align: right;\n",
              "    }\n",
              "</style>\n",
              "<table border=\"1\" class=\"dataframe\">\n",
              "  <thead>\n",
              "    <tr style=\"text-align: right;\">\n",
              "      <th></th>\n",
              "      <th>Unnamed: 0</th>\n",
              "      <th>complex_id</th>\n",
              "      <th>Stop Name</th>\n",
              "      <th>Complex_id</th>\n",
              "      <th>exits_weekday_evening</th>\n",
              "      <th>entries_weekday_evening</th>\n",
              "      <th>exits_weekday_morning</th>\n",
              "      <th>entries_weekday_morning</th>\n",
              "      <th>exits_weekday_overnight</th>\n",
              "      <th>entries_weekday_overnight</th>\n",
              "      <th>exits_weekend_evening</th>\n",
              "      <th>entries_weekend_evening</th>\n",
              "      <th>exits_weekend_morning</th>\n",
              "      <th>entries_weekend_morning</th>\n",
              "      <th>exits_weekend_overnight</th>\n",
              "      <th>entries_weekend_overnight</th>\n",
              "      <th>cs_ibx_peak</th>\n",
              "      <th>cs_ibx_offpeak</th>\n",
              "      <th>cs_noibx_peak</th>\n",
              "      <th>cs_noibx_offpeak</th>\n",
              "      <th>VoroID</th>\n",
              "      <th>lotarea</th>\n",
              "      <th>bldgarea</th>\n",
              "      <th>comarea</th>\n",
              "      <th>resarea</th>\n",
              "      <th>officearea</th>\n",
              "      <th>retailarea</th>\n",
              "      <th>garagearea</th>\n",
              "      <th>strgearea</th>\n",
              "      <th>factryarea</th>\n",
              "      <th>otherarea</th>\n",
              "      <th>numbldgs</th>\n",
              "      <th>numfloors</th>\n",
              "      <th>unitsres</th>\n",
              "      <th>unitstotal</th>\n",
              "      <th>assesstot</th>\n",
              "      <th>Total_pop_Num</th>\n",
              "      <th>housed_pop_Num</th>\n",
              "      <th>group_house_pop_num</th>\n",
              "      <th>industrial_pop_num</th>\n",
              "      <th>under18_num</th>\n",
              "      <th>hispanic_num</th>\n",
              "      <th>white_num</th>\n",
              "      <th>black_num</th>\n",
              "      <th>asian_num</th>\n",
              "      <th>other_num</th>\n",
              "      <th>multirace_num</th>\n",
              "      <th>total_houses</th>\n",
              "      <th>occupied_homes_num</th>\n",
              "      <th>vacant_homes_num</th>\n",
              "      <th>Bus_Stops</th>\n",
              "      <th>geometry</th>\n",
              "      <th>Complex ID</th>\n",
              "      <th>boro</th>\n",
              "      <th>lat</th>\n",
              "      <th>long</th>\n",
              "    </tr>\n",
              "  </thead>\n",
              "  <tbody>\n",
              "    <tr>\n",
              "      <th>0</th>\n",
              "      <td>0</td>\n",
              "      <td>614</td>\n",
              "      <td>59 ST-COLUMBUS CIRCLE</td>\n",
              "      <td>614c</td>\n",
              "      <td>10926.175</td>\n",
              "      <td>15541.200</td>\n",
              "      <td>25226.700</td>\n",
              "      <td>12127.425</td>\n",
              "      <td>892.400</td>\n",
              "      <td>679.500</td>\n",
              "      <td>9207.0625</td>\n",
              "      <td>8656.6875</td>\n",
              "      <td>13438.0000</td>\n",
              "      <td>6768.75</td>\n",
              "      <td>992.0000</td>\n",
              "      <td>907.3750</td>\n",
              "      <td>0.022481</td>\n",
              "      <td>0.013806</td>\n",
              "      <td>0.022649</td>\n",
              "      <td>0.013907</td>\n",
              "      <td>303.0</td>\n",
              "      <td>3.506512e+06</td>\n",
              "      <td>1.898716e+07</td>\n",
              "      <td>8.076521e+06</td>\n",
              "      <td>9.733897e+06</td>\n",
              "      <td>3.300706e+06</td>\n",
              "      <td>1.119935e+06</td>\n",
              "      <td>650293.456884</td>\n",
              "      <td>83286.493966</td>\n",
              "      <td>0.000000</td>\n",
              "      <td>2.922301e+06</td>\n",
              "      <td>183.121213</td>\n",
              "      <td>1747.992908</td>\n",
              "      <td>9694.778308</td>\n",
              "      <td>10595.702631</td>\n",
              "      <td>3.197204e+09</td>\n",
              "      <td>13952.842190</td>\n",
              "      <td>12686.163853</td>\n",
              "      <td>1266.678338</td>\n",
              "      <td>0.000000</td>\n",
              "      <td>1269.352811</td>\n",
              "      <td>1574.410869</td>\n",
              "      <td>8515.255032</td>\n",
              "      <td>616.540938</td>\n",
              "      <td>2565.146273</td>\n",
              "      <td>132.653509</td>\n",
              "      <td>548.835569</td>\n",
              "      <td>9177.614626</td>\n",
              "      <td>7595.313029</td>\n",
              "      <td>1582.301598</td>\n",
              "      <td>29.0</td>\n",
              "      <td>POLYGON ((990236.0543776825 218861.07537803546...</td>\n",
              "      <td>614</td>\n",
              "      <td>M</td>\n",
              "      <td>40.768271</td>\n",
              "      <td>-73.981832</td>\n",
              "    </tr>\n",
              "    <tr>\n",
              "      <th>1</th>\n",
              "      <td>1</td>\n",
              "      <td>611</td>\n",
              "      <td>42 ST-PORT AUTHORITY BUS TERMINAL</td>\n",
              "      <td>611c</td>\n",
              "      <td>47538.800</td>\n",
              "      <td>32175.925</td>\n",
              "      <td>51746.825</td>\n",
              "      <td>35712.750</td>\n",
              "      <td>3820.075</td>\n",
              "      <td>4421.525</td>\n",
              "      <td>36982.0625</td>\n",
              "      <td>23756.8125</td>\n",
              "      <td>32989.3125</td>\n",
              "      <td>18093.75</td>\n",
              "      <td>4894.6875</td>\n",
              "      <td>5036.8750</td>\n",
              "      <td>0.025420</td>\n",
              "      <td>0.016341</td>\n",
              "      <td>0.025604</td>\n",
              "      <td>0.016466</td>\n",
              "      <td>289.0</td>\n",
              "      <td>2.880067e+06</td>\n",
              "      <td>3.515431e+07</td>\n",
              "      <td>2.677124e+07</td>\n",
              "      <td>3.116553e+06</td>\n",
              "      <td>2.179797e+07</td>\n",
              "      <td>2.655222e+06</td>\n",
              "      <td>811092.979196</td>\n",
              "      <td>192855.064166</td>\n",
              "      <td>140027.608586</td>\n",
              "      <td>1.174067e+06</td>\n",
              "      <td>369.896651</td>\n",
              "      <td>3352.619951</td>\n",
              "      <td>4785.352598</td>\n",
              "      <td>9932.297027</td>\n",
              "      <td>5.270392e+09</td>\n",
              "      <td>6860.419037</td>\n",
              "      <td>6150.844036</td>\n",
              "      <td>709.575001</td>\n",
              "      <td>14.690317</td>\n",
              "      <td>456.485520</td>\n",
              "      <td>1227.369128</td>\n",
              "      <td>3214.088569</td>\n",
              "      <td>914.438730</td>\n",
              "      <td>1197.245697</td>\n",
              "      <td>70.786647</td>\n",
              "      <td>236.490267</td>\n",
              "      <td>4664.877276</td>\n",
              "      <td>4061.605283</td>\n",
              "      <td>603.271993</td>\n",
              "      <td>22.0</td>\n",
              "      <td>POLYGON ((986940.1379654831 213865.68954273767...</td>\n",
              "      <td>611</td>\n",
              "      <td>M</td>\n",
              "      <td>40.755746</td>\n",
              "      <td>-73.987581</td>\n",
              "    </tr>\n",
              "    <tr>\n",
              "      <th>2</th>\n",
              "      <td>2</td>\n",
              "      <td>601</td>\n",
              "      <td>14 ST</td>\n",
              "      <td>601c</td>\n",
              "      <td>8016.600</td>\n",
              "      <td>8628.425</td>\n",
              "      <td>13483.025</td>\n",
              "      <td>7083.525</td>\n",
              "      <td>697.075</td>\n",
              "      <td>459.025</td>\n",
              "      <td>6736.9375</td>\n",
              "      <td>5749.5000</td>\n",
              "      <td>8523.2500</td>\n",
              "      <td>3904.25</td>\n",
              "      <td>1071.5000</td>\n",
              "      <td>849.1875</td>\n",
              "      <td>0.024272</td>\n",
              "      <td>0.014947</td>\n",
              "      <td>0.024396</td>\n",
              "      <td>0.015019</td>\n",
              "      <td>338.0</td>\n",
              "      <td>2.164823e+06</td>\n",
              "      <td>1.237371e+07</td>\n",
              "      <td>4.752918e+06</td>\n",
              "      <td>7.347938e+06</td>\n",
              "      <td>2.607690e+06</td>\n",
              "      <td>1.193587e+06</td>\n",
              "      <td>146637.180360</td>\n",
              "      <td>33691.369486</td>\n",
              "      <td>946.797472</td>\n",
              "      <td>7.703662e+05</td>\n",
              "      <td>554.910817</td>\n",
              "      <td>2653.275670</td>\n",
              "      <td>7799.514511</td>\n",
              "      <td>8904.915810</td>\n",
              "      <td>1.820699e+09</td>\n",
              "      <td>11162.853868</td>\n",
              "      <td>10786.224803</td>\n",
              "      <td>376.629065</td>\n",
              "      <td>0.000000</td>\n",
              "      <td>1029.693323</td>\n",
              "      <td>900.853379</td>\n",
              "      <td>8471.750608</td>\n",
              "      <td>270.358591</td>\n",
              "      <td>928.680120</td>\n",
              "      <td>110.324878</td>\n",
              "      <td>480.886292</td>\n",
              "      <td>7395.664853</td>\n",
              "      <td>6489.408653</td>\n",
              "      <td>906.256200</td>\n",
              "      <td>11.0</td>\n",
              "      <td>POLYGON ((984311.361812786 208635.71960600044,...</td>\n",
              "      <td>601</td>\n",
              "      <td>M</td>\n",
              "      <td>40.737796</td>\n",
              "      <td>-73.997732</td>\n",
              "    </tr>\n",
              "  </tbody>\n",
              "</table>\n",
              "</div>"
            ],
            "text/plain": [
              "   Unnamed: 0  complex_id                          Stop Name Complex_id  \\\n",
              "0           0         614              59 ST-COLUMBUS CIRCLE       614c   \n",
              "1           1         611  42 ST-PORT AUTHORITY BUS TERMINAL       611c   \n",
              "2           2         601                              14 ST       601c   \n",
              "\n",
              "   exits_weekday_evening  entries_weekday_evening  exits_weekday_morning  \\\n",
              "0              10926.175                15541.200              25226.700   \n",
              "1              47538.800                32175.925              51746.825   \n",
              "2               8016.600                 8628.425              13483.025   \n",
              "\n",
              "   entries_weekday_morning  exits_weekday_overnight  \\\n",
              "0                12127.425                  892.400   \n",
              "1                35712.750                 3820.075   \n",
              "2                 7083.525                  697.075   \n",
              "\n",
              "   entries_weekday_overnight  exits_weekend_evening  entries_weekend_evening  \\\n",
              "0                    679.500              9207.0625                8656.6875   \n",
              "1                   4421.525             36982.0625               23756.8125   \n",
              "2                    459.025              6736.9375                5749.5000   \n",
              "\n",
              "   exits_weekend_morning  entries_weekend_morning  exits_weekend_overnight  \\\n",
              "0             13438.0000                  6768.75                 992.0000   \n",
              "1             32989.3125                 18093.75                4894.6875   \n",
              "2              8523.2500                  3904.25                1071.5000   \n",
              "\n",
              "   entries_weekend_overnight  cs_ibx_peak  cs_ibx_offpeak  cs_noibx_peak  \\\n",
              "0                   907.3750     0.022481        0.013806       0.022649   \n",
              "1                  5036.8750     0.025420        0.016341       0.025604   \n",
              "2                   849.1875     0.024272        0.014947       0.024396   \n",
              "\n",
              "   cs_noibx_offpeak  VoroID       lotarea      bldgarea       comarea  \\\n",
              "0          0.013907   303.0  3.506512e+06  1.898716e+07  8.076521e+06   \n",
              "1          0.016466   289.0  2.880067e+06  3.515431e+07  2.677124e+07   \n",
              "2          0.015019   338.0  2.164823e+06  1.237371e+07  4.752918e+06   \n",
              "\n",
              "        resarea    officearea    retailarea     garagearea      strgearea  \\\n",
              "0  9.733897e+06  3.300706e+06  1.119935e+06  650293.456884   83286.493966   \n",
              "1  3.116553e+06  2.179797e+07  2.655222e+06  811092.979196  192855.064166   \n",
              "2  7.347938e+06  2.607690e+06  1.193587e+06  146637.180360   33691.369486   \n",
              "\n",
              "      factryarea     otherarea    numbldgs    numfloors     unitsres  \\\n",
              "0       0.000000  2.922301e+06  183.121213  1747.992908  9694.778308   \n",
              "1  140027.608586  1.174067e+06  369.896651  3352.619951  4785.352598   \n",
              "2     946.797472  7.703662e+05  554.910817  2653.275670  7799.514511   \n",
              "\n",
              "     unitstotal     assesstot  Total_pop_Num  housed_pop_Num  \\\n",
              "0  10595.702631  3.197204e+09   13952.842190    12686.163853   \n",
              "1   9932.297027  5.270392e+09    6860.419037     6150.844036   \n",
              "2   8904.915810  1.820699e+09   11162.853868    10786.224803   \n",
              "\n",
              "   group_house_pop_num  industrial_pop_num  under18_num  hispanic_num  \\\n",
              "0          1266.678338            0.000000  1269.352811   1574.410869   \n",
              "1           709.575001           14.690317   456.485520   1227.369128   \n",
              "2           376.629065            0.000000  1029.693323    900.853379   \n",
              "\n",
              "     white_num   black_num    asian_num   other_num  multirace_num  \\\n",
              "0  8515.255032  616.540938  2565.146273  132.653509     548.835569   \n",
              "1  3214.088569  914.438730  1197.245697   70.786647     236.490267   \n",
              "2  8471.750608  270.358591   928.680120  110.324878     480.886292   \n",
              "\n",
              "   total_houses  occupied_homes_num  vacant_homes_num  Bus_Stops  \\\n",
              "0   9177.614626         7595.313029       1582.301598       29.0   \n",
              "1   4664.877276         4061.605283        603.271993       22.0   \n",
              "2   7395.664853         6489.408653        906.256200       11.0   \n",
              "\n",
              "                                            geometry  Complex ID boro  \\\n",
              "0  POLYGON ((990236.0543776825 218861.07537803546...         614    M   \n",
              "1  POLYGON ((986940.1379654831 213865.68954273767...         611    M   \n",
              "2  POLYGON ((984311.361812786 208635.71960600044,...         601    M   \n",
              "\n",
              "         lat       long  \n",
              "0  40.768271 -73.981832  \n",
              "1  40.755746 -73.987581  \n",
              "2  40.737796 -73.997732  "
            ]
          },
          "execution_count": 5,
          "metadata": {},
          "output_type": "execute_result"
        }
      ],
      "source": [
        "#on log values \n",
        "pd.set_option(\"max_columns\",None)\n",
        "mg_noIBX_abs.head(3)\n",
        "#weekday morning and weekday evening only peak ones "
      ]
    },
    {
      "cell_type": "code",
      "execution_count": 6,
      "metadata": {
        "id": "oF2jdsptFaUd"
      },
      "outputs": [],
      "source": [
        "#setting current so can re run everything easily (raw, absolute, log)\n",
        "current = mg_noIBX_log"
      ]
    },
    {
      "cell_type": "code",
      "execution_count": null,
      "metadata": {
        "id": "GxfEwChohykW"
      },
      "outputs": [],
      "source": []
    },
    {
      "cell_type": "code",
      "execution_count": 7,
      "metadata": {
        "id": "aDphBenkgjFO"
      },
      "outputs": [],
      "source": [
        "\n",
        "cols_housing = ['unitsres','unitstotal','total_houses', 'occupied_homes_num',\n",
        "       'vacant_homes_num','resarea']\n",
        "\n",
        "\n",
        "cols_dems = ['Total_pop_Num',\n",
        "       'housed_pop_Num', 'group_house_pop_num', 'industrial_pop_num',\n",
        "       'under18_num', 'hispanic_num', 'white_num', 'black_num', 'asian_num',\n",
        "       'other_num', 'multirace_num']"
      ]
    },
    {
      "cell_type": "code",
      "execution_count": 8,
      "metadata": {
        "id": "JRQ5ZebaEb3l"
      },
      "outputs": [],
      "source": [
        "from sklearn.preprocessing import StandardScaler\n",
        "\n",
        "#composite score for housing \n",
        "x = StandardScaler().fit_transform(current[cols_housing])\n",
        "\n",
        "\n",
        "from sklearn.decomposition import PCA\n",
        "pca = PCA(n_components=1)\n",
        "housing_composite = pca.fit_transform(x)\n",
        "\n",
        "\n",
        "#and demographics \n",
        "x = StandardScaler().fit_transform(current[cols_dems])\n",
        "\n",
        "\n",
        "from sklearn.decomposition import PCA\n",
        "pca = PCA(n_components=1)\n",
        "demo_composite = pca.fit_transform(x)\n",
        "             \n",
        "\n",
        "\n"
      ]
    },
    {
      "cell_type": "code",
      "execution_count": 9,
      "metadata": {
        "id": "RXPwefLOiPeT"
      },
      "outputs": [],
      "source": [
        "cols_short = ['lotarea', 'bldgarea', 'comarea', 'officearea', 'retailarea',\n",
        "       'garagearea', 'strgearea', 'factryarea', 'otherarea', 'numbldgs',\n",
        "       'numfloors', 'assesstot', 'Bus_Stops']"
      ]
    },
    {
      "cell_type": "code",
      "execution_count": 16,
      "metadata": {
        "id": "AMBBE-l1CReR"
      },
      "outputs": [],
      "source": [
        "#cols for features except for centrality score --> fitting all in \n",
        "cols = ['lotarea', 'bldgarea', 'comarea', 'resarea', 'officearea', 'retailarea',\n",
        "       'garagearea', 'strgearea', 'factryarea', 'otherarea', 'numbldgs',\n",
        "       'numfloors', 'unitsres', 'unitstotal', 'assesstot', 'Total_pop_Num',\n",
        "       'housed_pop_Num', 'group_house_pop_num', 'industrial_pop_num',\n",
        "       'under18_num', 'hispanic_num', 'white_num', 'black_num', 'asian_num',\n",
        "       'other_num', 'multirace_num', 'total_houses', 'occupied_homes_num',\n",
        "       'vacant_homes_num', 'Bus_Stops']"
      ]
    },
    {
      "cell_type": "code",
      "execution_count": 17,
      "metadata": {
        "id": "8kkr7UcgEclo"
      },
      "outputs": [],
      "source": [
        "#diff feature columns time depending \n",
        "cols_peak = cols + ['cs_noibx_peak']\n",
        "cols_offpeak = cols + ['cs_noibx_offpeak']"
      ]
    },
    {
      "cell_type": "code",
      "execution_count": 18,
      "metadata": {
        "id": "MNsACJN-ihmO"
      },
      "outputs": [],
      "source": [
        "#for use with PCA - only adding non PCA values, column selection\n",
        "cols_peak = cols_short + ['cs_noibx_peak'] + ['housing_index'] + ['pop_index']\n",
        "cols_offpeak = cols_short + ['cs_noibx_offpeak'] + ['housing_index'] + ['pop_index']"
      ]
    },
    {
      "cell_type": "code",
      "execution_count": 19,
      "metadata": {
        "id": "lS1TXNMVgDO9"
      },
      "outputs": [],
      "source": [
        "#merge with current\n",
        "current = current.assign(housing_index=housing_composite)\n",
        "current = current.assign(pop_index=demo_composite)"
      ]
    },
    {
      "cell_type": "code",
      "execution_count": 22,
      "metadata": {
        "id": "WFvUwFT5jUSQ"
      },
      "outputs": [
        {
          "data": {
            "text/plain": [
              "(424, 58)"
            ]
          },
          "execution_count": 22,
          "metadata": {},
          "output_type": "execute_result"
        }
      ],
      "source": [
        "current.shape"
      ]
    },
    {
      "cell_type": "code",
      "execution_count": 164,
      "metadata": {
        "id": "v0Kj_vouEzN1"
      },
      "outputs": [],
      "source": [
        "#target variables for ease of calling later \n",
        "#weekday\n",
        "#scores for traditional random forest w/ 5 cv fold - R2 values \n",
        "#first score is absolute value \n",
        "#try PCA \n",
        "exits_weekday_morning = current['exits_weekday_morning'] #.171\n",
        "entries_weekday_morning = current['entries_weekday_morning'] #-.16\n",
        "\n",
        "exits_weekday_evening = current['exits_weekday_evening'] #-.20 \n",
        "entries_weekday_evening = current['entries_weekday_evening'] #.046\n",
        "\n",
        "exits_weekday_overnight = current['exits_weekday_overnight'] #-.15\n",
        "entries_weekday_overnight = current['entries_weekday_overnight'] #-.12\n",
        "\n",
        "#weekend\n",
        "exits_weekend_morning = current['exits_weekend_morning'] #0.04\n",
        "entries_weekend_morning = current['entries_weekend_morning'] #-0.097\n",
        "\n",
        "exits_weekend_evening = current['exits_weekend_evening'] #.01\n",
        "entries_weekend_evening = current['entries_weekend_evening'] #.127\n",
        "\n",
        "exits_weekend_overnight = current['exits_weekend_overnight'] #-.24\n",
        "entries_weekend_overnight = current['entries_weekend_overnight'] #0.04 \n"
      ]
    },
    {
      "cell_type": "code",
      "execution_count": 103,
      "metadata": {
        "id": "QQb-7JXsTlrn"
      },
      "outputs": [],
      "source": []
    },
    {
      "cell_type": "code",
      "execution_count": 165,
      "metadata": {
        "id": "WweGA2W9RTIw"
      },
      "outputs": [],
      "source": [
        "#list of target values \n",
        "trip_targets = [exits_weekday_morning,entries_weekday_morning,exits_weekday_evening,entries_weekday_evening,exits_weekday_overnight,entries_weekday_overnight,\n",
        "                exits_weekend_morning,entries_weekend_morning,exits_weekend_evening,entries_weekend_evening,exits_weekend_overnight,entries_weekend_overnight]"
      ]
    },
    {
      "cell_type": "code",
      "execution_count": null,
      "metadata": {
        "id": "0qFS2XK5Yz4u"
      },
      "outputs": [],
      "source": [
        "#"
      ]
    },
    {
      "cell_type": "code",
      "execution_count": 166,
      "metadata": {
        "colab": {
          "base_uri": "https://localhost:8080/"
        },
        "id": "mwcfw446r2xM",
        "outputId": "4eb18220-3612-41db-8222-11d59a0a3cbb"
      },
      "outputs": [
        {
          "name": "stdout",
          "output_type": "stream",
          "text": [
            "exits_weekday_morning R2Score: 0.38700315586132594\n",
            "entries_weekday_morning R2Score: 0.17424130394104503\n",
            "exits_weekday_evening R2Score: 0.11332539455662574\n",
            "entries_weekday_evening R2Score: 0.39259888222436845\n",
            "exits_weekday_overnight R2Score: 0.024850459931700385\n",
            "entries_weekday_overnight R2Score: 0.1484572469266146\n",
            "exits_weekend_morning R2Score: 0.3159314924857951\n",
            "entries_weekend_morning R2Score: 0.11775391716142095\n",
            "exits_weekend_evening R2Score: 0.204465911207937\n",
            "entries_weekend_evening R2Score: 0.33473422634231076\n",
            "exits_weekend_overnight R2Score: 0.00021854928146836095\n",
            "entries_weekend_overnight R2Score: 0.2534040053249148\n"
          ]
        }
      ],
      "source": [
        "#setting peak values \n",
        "peak = [exits_weekday_morning,entries_weekday_morning,exits_weekday_evening,entries_weekday_evening]\n",
        "\n",
        "#looping through \n",
        "for target in trip_targets:\n",
        "    from sklearn.model_selection import cross_val_score\n",
        "\n",
        "    rf = RandomForestRegressor(random_state = 42,n_jobs=-1,n_estimators=50)\n",
        "\n",
        "    if target.name in map(lambda x: x.name,peak):\n",
        "      scores = cross_val_score(rf, current[cols_peak], target, cv=5)\n",
        "    else:\n",
        "      scores = cross_val_score(rf, current[cols_offpeak], target, cv=5)\n",
        "\n",
        "    print(target.name, 'R2Score:' ,scores.mean())\n",
        "\n",
        "\n",
        "    #lets tune --> use grid search cv to tune \n",
        "    #later use this to fit - play with parameters \n",
        "    #cross validation\n",
        "    #grid_search = GridSearchCV(estimator = rf, param_grid = param_grid, cv = 3, n_jobs = -1, verbose = 2)\n",
        "\n",
        "    #rf.fit(current[cols_offpeak],exits_weekday_morning)"
      ]
    },
    {
      "cell_type": "code",
      "execution_count": 167,
      "metadata": {
        "id": "2P7DIvdIZgjW"
      },
      "outputs": [],
      "source": [
        "rf.fit(current[cols_offpeak],entries_weekend_evening)\n",
        "feature_scores = rf.feature_importances_"
      ]
    },
    {
      "cell_type": "code",
      "execution_count": 168,
      "metadata": {
        "colab": {
          "base_uri": "https://localhost:8080/"
        },
        "id": "XaT7qGpHaT-w",
        "outputId": "d729d3a5-e6b4-4743-f4b7-df607710bd6b"
      },
      "outputs": [
        {
          "data": {
            "text/plain": [
              "[('numfloors', 0.01062016847384322),\n",
              " ('pop_index', 0.01458061321138317),\n",
              " ('strgearea', 0.017659058060729677),\n",
              " ('otherarea', 0.020339994630067363),\n",
              " ('factryarea', 0.021259755463374875),\n",
              " ('comarea', 0.02167035947212359),\n",
              " ('garagearea', 0.023389737643148764),\n",
              " ('bldgarea', 0.025241690195608693),\n",
              " ('housing_index', 0.027361673175454265),\n",
              " ('lotarea', 0.02935711980518353),\n",
              " ('Bus_Stops', 0.037058899208302035),\n",
              " ('officearea', 0.04600819921827503),\n",
              " ('numbldgs', 0.05245743429221167),\n",
              " ('retailarea', 0.1050013056973529),\n",
              " ('cs_noibx_peak', 0.20940509566768103),\n",
              " ('assesstot', 0.3385888957852602)]"
            ]
          },
          "execution_count": 168,
          "metadata": {},
          "output_type": "execute_result"
        }
      ],
      "source": [
        "test = dict(zip(cols_peak,feature_scores))\n",
        "\n",
        "\n",
        "sorted(test.items(), key=lambda item: item[1])\n",
        "\n",
        "#use PCA to get composite score for housing and demographics \n",
        "#mixness score "
      ]
    },
    {
      "cell_type": "code",
      "execution_count": 144,
      "metadata": {
        "id": "h8vS2g95c5Ng"
      },
      "outputs": [],
      "source": []
    },
    {
      "cell_type": "code",
      "execution_count": 125,
      "metadata": {
        "colab": {
          "base_uri": "https://localhost:8080/"
        },
        "id": "FfiZ18-BOsjz",
        "outputId": "df87f8be-8ab3-45ae-df37-6062683c4d92"
      },
      "outputs": [
        {
          "data": {
            "text/plain": [
              "array([0.01666741, 0.03110036, 0.03222529, 0.00316789, 0.07408091,\n",
              "       0.04584445, 0.01360969, 0.01188481, 0.00740225, 0.0176281 ,\n",
              "       0.02981948, 0.00748431, 0.00278372, 0.00333722, 0.19584361,\n",
              "       0.00327011, 0.00218424, 0.0100469 , 0.00932198, 0.00729952,\n",
              "       0.00938245, 0.00684932, 0.00741319, 0.01338993, 0.00974629,\n",
              "       0.00744318, 0.0020968 , 0.00219944, 0.01552973, 0.02615048,\n",
              "       0.37479692])"
            ]
          },
          "execution_count": 125,
          "metadata": {},
          "output_type": "execute_result"
        }
      ],
      "source": [
        "#test = pd.concat(feature_scores,cols_peak)\n",
        "feature_scores"
      ]
    },
    {
      "cell_type": "code",
      "execution_count": 126,
      "metadata": {
        "colab": {
          "base_uri": "https://localhost:8080/"
        },
        "id": "xyXOT80JLt-I",
        "outputId": "3605536a-a651-493b-9b9e-7275f0c67c70"
      },
      "outputs": [
        {
          "data": {
            "text/plain": [
              "['lotarea',\n",
              " 'bldgarea',\n",
              " 'comarea',\n",
              " 'resarea',\n",
              " 'officearea',\n",
              " 'retailarea',\n",
              " 'garagearea',\n",
              " 'strgearea',\n",
              " 'factryarea',\n",
              " 'otherarea',\n",
              " 'numbldgs',\n",
              " 'numfloors',\n",
              " 'unitsres',\n",
              " 'unitstotal',\n",
              " 'assesstot',\n",
              " 'Total_pop_Num',\n",
              " 'housed_pop_Num',\n",
              " 'group_house_pop_num',\n",
              " 'industrial_pop_num',\n",
              " 'under18_num',\n",
              " 'hispanic_num',\n",
              " 'white_num',\n",
              " 'black_num',\n",
              " 'asian_num',\n",
              " 'other_num',\n",
              " 'multirace_num',\n",
              " 'total_houses',\n",
              " 'occupied_homes_num',\n",
              " 'vacant_homes_num',\n",
              " 'Bus_Stops',\n",
              " 'cs_noibx_peak']"
            ]
          },
          "execution_count": 126,
          "metadata": {},
          "output_type": "execute_result"
        }
      ],
      "source": [
        "cols_peak"
      ]
    },
    {
      "cell_type": "code",
      "execution_count": null,
      "metadata": {
        "id": "4Z8ADwpeqrtR"
      },
      "outputs": [],
      "source": [
        "#cross validation - basically doing train + test comparison to get best trained model \n",
        "#get crossvalscore --> "
      ]
    },
    {
      "cell_type": "code",
      "execution_count": null,
      "metadata": {
        "id": "qcuDZ7Z-qslQ"
      },
      "outputs": [],
      "source": [
        "#how to validate predictions"
      ]
    },
    {
      "cell_type": "code",
      "execution_count": null,
      "metadata": {
        "id": "oTQ7aEnsvAbw"
      },
      "outputs": [],
      "source": [
        "#make chloropleth with centrality by voronoi with and without IBX --> map before and after \n",
        "#check if polygons still in final table - output and merge with scores - color accordingly "
      ]
    },
    {
      "cell_type": "code",
      "execution_count": null,
      "metadata": {
        "id": "HwmJlDcowCwS"
      },
      "outputs": [],
      "source": [
        "#use Turbold model to predict entries and exits across all time periods for IBX dataset \n",
        "#use ins and outs to build gravity model "
      ]
    }
  ],
  "metadata": {
    "colab": {
      "authorship_tag": "ABX9TyOYdLEAI3jWDRbY8WvMasT8",
      "collapsed_sections": [],
      "include_colab_link": true,
      "name": "IBXRandomForest.ipynb",
      "provenance": []
    },
    "kernelspec": {
      "display_name": "Python 3",
      "name": "python3"
    },
    "language_info": {
      "codemirror_mode": {
        "name": "ipython",
        "version": 3
      },
      "file_extension": ".py",
      "mimetype": "text/x-python",
      "name": "python",
      "nbconvert_exporter": "python",
      "pygments_lexer": "ipython3",
      "version": "3.10.0"
    }
  },
  "nbformat": 4,
  "nbformat_minor": 0
}
